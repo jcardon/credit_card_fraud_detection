{
  "nbformat": 4,
  "nbformat_minor": 0,
  "metadata": {
    "colab": {
      "name": "credit_card_fraud_detection.ipynb",
      "version": "0.3.2",
      "provenance": [],
      "collapsed_sections": [],
      "include_colab_link": true
    },
    "language_info": {
      "codemirror_mode": {
        "name": "ipython",
        "version": 3
      },
      "file_extension": ".py",
      "mimetype": "text/x-python",
      "name": "python",
      "nbconvert_exporter": "python",
      "pygments_lexer": "ipython3",
      "version": "3.7.0"
    },
    "kernelspec": {
      "display_name": "Python 3",
      "language": "python",
      "name": "python3"
    },
    "accelerator": "GPU"
  },
  "cells": [
    {
      "cell_type": "markdown",
      "metadata": {
        "id": "view-in-github",
        "colab_type": "text"
      },
      "source": [
        "<a href=\"https://colab.research.google.com/github/jcardon/credit_card_fraud_detection/blob/master/credit_card_fraud_detection.ipynb\" target=\"_parent\"><img src=\"https://colab.research.google.com/assets/colab-badge.svg\" alt=\"Open In Colab\"/></a>"
      ]
    },
    {
      "cell_type": "markdown",
      "metadata": {
        "id": "_JVHFWMPsLB-",
        "colab_type": "text"
      },
      "source": [
        "# Librerias necesarias:\n",
        "\n"
      ]
    },
    {
      "cell_type": "code",
      "metadata": {
        "colab_type": "code",
        "id": "XKDrBhdHTtQy",
        "colab": {}
      },
      "source": [
        "import pandas as pd\n",
        "import matplotlib.pyplot as plt\n",
        "import numpy as np\n",
        "import seaborn as sns\n",
        "from datetime import datetime\n",
        "\n",
        "\n",
        "%matplotlib inline\n"
      ],
      "execution_count": 0,
      "outputs": []
    },
    {
      "cell_type": "markdown",
      "metadata": {
        "id": "VMIkt8Jws5os",
        "colab_type": "text"
      },
      "source": [
        "# Cargamos nuestos archivos,"
      ]
    },
    {
      "cell_type": "code",
      "metadata": {
        "id": "OYkkOz6JsyIs",
        "colab_type": "code",
        "colab": {}
      },
      "source": [
        "\n",
        "url = 'https://raw.githubusercontent.com/jcardon/credit_card_fraud_detection/master/Movtos_Ctas_2015.csv'\n",
        "df1 = pd.read_csv(url,encoding='latin-1')\n",
        "\n",
        "url = 'https://raw.githubusercontent.com/jcardon/credit_card_fraud_detection/master/Aperturas.csv'\n",
        "df2 = pd.read_csv(url,encoding='latin-1')\n",
        "# Dataset is now stored in a Pandas Dataframe"
      ],
      "execution_count": 0,
      "outputs": []
    },
    {
      "cell_type": "code",
      "metadata": {
        "colab_type": "code",
        "id": "kNIs7XRHTyRB",
        "colab": {}
      },
      "source": [
        "df_mov = df1\n",
        "df_aperturas = df2"
      ],
      "execution_count": 0,
      "outputs": []
    },
    {
      "cell_type": "markdown",
      "metadata": {
        "id": "Nf5XNgEHsoZa",
        "colab_type": "text"
      },
      "source": [
        "\n",
        "# Revisamos la forma de nuestros datasets"
      ]
    },
    {
      "cell_type": "markdown",
      "metadata": {
        "id": "xPfYpFpyteyw",
        "colab_type": "text"
      },
      "source": [
        "El documento de Aperturas contiene 5 columnas, \n",
        "la columna Numero_de_cuenta la comparte con \n",
        "el documento de Movimientos por lo que los podemos\n",
        "unir tomando el no de cuenta como nuestra llave "
      ]
    },
    {
      "cell_type": "code",
      "metadata": {
        "colab_type": "code",
        "id": "HO_K3YMuXVCp",
        "colab": {
          "base_uri": "https://localhost:8080/",
          "height": 202
        },
        "outputId": "e438c222-0378-481a-dfa0-1bf283f0d71b"
      },
      "source": [
        "df_aperturas.head(5)"
      ],
      "execution_count": 4,
      "outputs": [
        {
          "output_type": "execute_result",
          "data": {
            "text/html": [
              "<div>\n",
              "<style scoped>\n",
              "    .dataframe tbody tr th:only-of-type {\n",
              "        vertical-align: middle;\n",
              "    }\n",
              "\n",
              "    .dataframe tbody tr th {\n",
              "        vertical-align: top;\n",
              "    }\n",
              "\n",
              "    .dataframe thead th {\n",
              "        text-align: right;\n",
              "    }\n",
              "</style>\n",
              "<table border=\"1\" class=\"dataframe\">\n",
              "  <thead>\n",
              "    <tr style=\"text-align: right;\">\n",
              "      <th></th>\n",
              "      <th>Numero_de_cuenta</th>\n",
              "      <th>Monto_de_apertura</th>\n",
              "      <th>Fecha_Apertura</th>\n",
              "      <th>Cliente</th>\n",
              "      <th>Tipo_de_Instrumento</th>\n",
              "    </tr>\n",
              "  </thead>\n",
              "  <tbody>\n",
              "    <tr>\n",
              "      <th>0</th>\n",
              "      <td>00MH985399</td>\n",
              "      <td>16046.40</td>\n",
              "      <td>3/6/2014</td>\n",
              "      <td>100540012</td>\n",
              "      <td>Cuenta corriente</td>\n",
              "    </tr>\n",
              "    <tr>\n",
              "      <th>1</th>\n",
              "      <td>00CU982321</td>\n",
              "      <td>379072.47</td>\n",
              "      <td>11/24/2014</td>\n",
              "      <td>100540013</td>\n",
              "      <td>Cuenta corriente</td>\n",
              "    </tr>\n",
              "    <tr>\n",
              "      <th>2</th>\n",
              "      <td>00CU982323</td>\n",
              "      <td>1603.86</td>\n",
              "      <td>2/12/2013</td>\n",
              "      <td>100540014</td>\n",
              "      <td>Cuenta corriente</td>\n",
              "    </tr>\n",
              "    <tr>\n",
              "      <th>3</th>\n",
              "      <td>00CU982324</td>\n",
              "      <td>3207.72</td>\n",
              "      <td>2/19/2013</td>\n",
              "      <td>100540015</td>\n",
              "      <td>Cuenta corriente</td>\n",
              "    </tr>\n",
              "    <tr>\n",
              "      <th>4</th>\n",
              "      <td>00CU982509</td>\n",
              "      <td>880377.46</td>\n",
              "      <td>9/9/2013</td>\n",
              "      <td>100540016</td>\n",
              "      <td>Cuenta corriente</td>\n",
              "    </tr>\n",
              "  </tbody>\n",
              "</table>\n",
              "</div>"
            ],
            "text/plain": [
              "  Numero_de_cuenta  Monto_de_apertura  ...    Cliente  Tipo_de_Instrumento\n",
              "0       00MH985399           16046.40  ...  100540012     Cuenta corriente\n",
              "1       00CU982321          379072.47  ...  100540013     Cuenta corriente\n",
              "2       00CU982323            1603.86  ...  100540014     Cuenta corriente\n",
              "3       00CU982324            3207.72  ...  100540015     Cuenta corriente\n",
              "4       00CU982509          880377.46  ...  100540016     Cuenta corriente\n",
              "\n",
              "[5 rows x 5 columns]"
            ]
          },
          "metadata": {
            "tags": []
          },
          "execution_count": 4
        }
      ]
    },
    {
      "cell_type": "code",
      "metadata": {
        "colab_type": "code",
        "id": "vWvjuJLWXben",
        "colab": {
          "base_uri": "https://localhost:8080/",
          "height": 202
        },
        "outputId": "74680cec-4e2d-4144-a529-6cdf5322be38"
      },
      "source": [
        "df_mov.head(5)"
      ],
      "execution_count": 5,
      "outputs": [
        {
          "output_type": "execute_result",
          "data": {
            "text/html": [
              "<div>\n",
              "<style scoped>\n",
              "    .dataframe tbody tr th:only-of-type {\n",
              "        vertical-align: middle;\n",
              "    }\n",
              "\n",
              "    .dataframe tbody tr th {\n",
              "        vertical-align: top;\n",
              "    }\n",
              "\n",
              "    .dataframe thead th {\n",
              "        text-align: right;\n",
              "    }\n",
              "</style>\n",
              "<table border=\"1\" class=\"dataframe\">\n",
              "  <thead>\n",
              "    <tr style=\"text-align: right;\">\n",
              "      <th></th>\n",
              "      <th>Numero_de_cuenta</th>\n",
              "      <th>Monto_transacción</th>\n",
              "      <th>Sucursal_nombre</th>\n",
              "      <th>Fecha_Transaccion</th>\n",
              "      <th>Hora_transaccion</th>\n",
              "      <th>Tipo_de_Transacción</th>\n",
              "      <th>Operador</th>\n",
              "      <th>Referencia</th>\n",
              "    </tr>\n",
              "  </thead>\n",
              "  <tbody>\n",
              "    <tr>\n",
              "      <th>0</th>\n",
              "      <td>00BJ987645</td>\n",
              "      <td>409.29</td>\n",
              "      <td>BENITO JUÁREZ</td>\n",
              "      <td>6/15/2015</td>\n",
              "      <td>02:56:08 a. m.</td>\n",
              "      <td>DEFE</td>\n",
              "      <td>BJ1037</td>\n",
              "      <td>3064980</td>\n",
              "    </tr>\n",
              "    <tr>\n",
              "      <th>1</th>\n",
              "      <td>00BJ961410</td>\n",
              "      <td>525.00</td>\n",
              "      <td>BENITO JUÁREZ</td>\n",
              "      <td>6/10/2015</td>\n",
              "      <td>02:56:08 a. m.</td>\n",
              "      <td>RECJ</td>\n",
              "      <td>BJ1037</td>\n",
              "      <td>3064981</td>\n",
              "    </tr>\n",
              "    <tr>\n",
              "      <th>2</th>\n",
              "      <td>00BJ962496</td>\n",
              "      <td>1114475.13</td>\n",
              "      <td>BENITO JUÁREZ</td>\n",
              "      <td>5/27/2015</td>\n",
              "      <td>02:56:08 a. m.</td>\n",
              "      <td>DCHQ</td>\n",
              "      <td>BJ0104</td>\n",
              "      <td>3064982</td>\n",
              "    </tr>\n",
              "    <tr>\n",
              "      <th>3</th>\n",
              "      <td>00BJ980224</td>\n",
              "      <td>111483.75</td>\n",
              "      <td>BENITO JUÁREZ</td>\n",
              "      <td>5/9/2015</td>\n",
              "      <td>02:56:08 a. m.</td>\n",
              "      <td>DCHQ</td>\n",
              "      <td>BJ0105</td>\n",
              "      <td>3064983</td>\n",
              "    </tr>\n",
              "    <tr>\n",
              "      <th>4</th>\n",
              "      <td>00BJ962502</td>\n",
              "      <td>10533.54</td>\n",
              "      <td>BENITO JUÁREZ</td>\n",
              "      <td>5/5/2015</td>\n",
              "      <td>02:56:08 a. m.</td>\n",
              "      <td>DCHQ</td>\n",
              "      <td>BJ0109</td>\n",
              "      <td>3064984</td>\n",
              "    </tr>\n",
              "  </tbody>\n",
              "</table>\n",
              "</div>"
            ],
            "text/plain": [
              "  Numero_de_cuenta  Monto_transacción  ... Operador Referencia\n",
              "0       00BJ987645             409.29  ...   BJ1037    3064980\n",
              "1       00BJ961410             525.00  ...   BJ1037    3064981\n",
              "2       00BJ962496         1114475.13  ...   BJ0104    3064982\n",
              "3       00BJ980224          111483.75  ...   BJ0105    3064983\n",
              "4       00BJ962502           10533.54  ...   BJ0109    3064984\n",
              "\n",
              "[5 rows x 8 columns]"
            ]
          },
          "metadata": {
            "tags": []
          },
          "execution_count": 5
        }
      ]
    },
    {
      "cell_type": "markdown",
      "metadata": {
        "id": "13cvu408tCb8",
        "colab_type": "text"
      },
      "source": [
        "Revisamos la forma de nuestros datasets"
      ]
    },
    {
      "cell_type": "code",
      "metadata": {
        "colab_type": "code",
        "id": "I-Gldfq7-q2C",
        "colab": {
          "base_uri": "https://localhost:8080/",
          "height": 52
        },
        "outputId": "7317a2bc-5d14-4979-c6e4-7b55c068b4b2"
      },
      "source": [
        "print(df_aperturas.shape)\n",
        "print(df_mov.shape)\n"
      ],
      "execution_count": 6,
      "outputs": [
        {
          "output_type": "stream",
          "text": [
            "(6980, 5)\n",
            "(65534, 8)\n"
          ],
          "name": "stdout"
        }
      ]
    },
    {
      "cell_type": "markdown",
      "metadata": {
        "id": "IkabDLTpt94n",
        "colab_type": "text"
      },
      "source": [
        "Observamos que el de movimientos es más grande, pero tiene sentido porque es lógico que \n",
        "por cada apertura de cuenta exista más de un movimiento\n"
      ]
    },
    {
      "cell_type": "markdown",
      "metadata": {
        "id": "SSSEA7I0uRv1",
        "colab_type": "text"
      },
      "source": [
        "**Informacion estadistica de la casilla de Monto transaccion**\n",
        "Observamos que el valor máximo es muy alto por lo que esperamos que la \n",
        "distribución este inclinada hacia la izquierda"
      ]
    },
    {
      "cell_type": "code",
      "metadata": {
        "colab_type": "code",
        "id": "j_glK-BAX5S8",
        "colab": {
          "base_uri": "https://localhost:8080/",
          "height": 173
        },
        "outputId": "015159af-4867-45e7-a2f6-558d6333860f"
      },
      "source": [
        "df_mov.Monto_transacción.describe()\n"
      ],
      "execution_count": 7,
      "outputs": [
        {
          "output_type": "execute_result",
          "data": {
            "text/plain": [
              "count    6.553400e+04\n",
              "mean     3.193806e+05\n",
              "std      1.673933e+07\n",
              "min      0.000000e+00\n",
              "25%      6.336000e+02\n",
              "50%      2.875890e+03\n",
              "75%      1.315455e+04\n",
              "max      2.924383e+09\n",
              "Name: Monto_transacción, dtype: float64"
            ]
          },
          "metadata": {
            "tags": []
          },
          "execution_count": 7
        }
      ]
    },
    {
      "cell_type": "code",
      "metadata": {
        "colab_type": "code",
        "id": "qQTkRjrzbewO",
        "colab": {
          "base_uri": "https://localhost:8080/",
          "height": 260
        },
        "outputId": "5b9cd259-67f8-42a2-e27d-4e487073b5b6"
      },
      "source": [
        "print(df_mov.info())"
      ],
      "execution_count": 8,
      "outputs": [
        {
          "output_type": "stream",
          "text": [
            "<class 'pandas.core.frame.DataFrame'>\n",
            "RangeIndex: 65534 entries, 0 to 65533\n",
            "Data columns (total 8 columns):\n",
            "Numero_de_cuenta       65534 non-null object\n",
            "Monto_transacción      65534 non-null float64\n",
            "Sucursal_nombre        65534 non-null object\n",
            "Fecha_Transaccion      65528 non-null object\n",
            "Hora_transaccion       65528 non-null object\n",
            "Tipo_de_Transacción    65534 non-null object\n",
            "Operador               65534 non-null object\n",
            "Referencia             65534 non-null int64\n",
            "dtypes: float64(1), int64(1), object(6)\n",
            "memory usage: 4.0+ MB\n",
            "None\n"
          ],
          "name": "stdout"
        }
      ]
    },
    {
      "cell_type": "markdown",
      "metadata": {
        "id": "1s32u-X_u6nX",
        "colab_type": "text"
      },
      "source": [
        "# Limpieza de los datos\n",
        "\n",
        "Empezamos revisando si existen valores NA en nuestros data sets"
      ]
    },
    {
      "cell_type": "code",
      "metadata": {
        "colab_type": "code",
        "id": "_awB0wUCfMWd",
        "colab": {
          "base_uri": "https://localhost:8080/",
          "height": 173
        },
        "outputId": "90b3cf20-11d0-4f96-b075-b0d88c8c813c"
      },
      "source": [
        "df_mov.isnull().any()"
      ],
      "execution_count": 9,
      "outputs": [
        {
          "output_type": "execute_result",
          "data": {
            "text/plain": [
              "Numero_de_cuenta       False\n",
              "Monto_transacción      False\n",
              "Sucursal_nombre        False\n",
              "Fecha_Transaccion       True\n",
              "Hora_transaccion        True\n",
              "Tipo_de_Transacción    False\n",
              "Operador               False\n",
              "Referencia             False\n",
              "dtype: bool"
            ]
          },
          "metadata": {
            "tags": []
          },
          "execution_count": 9
        }
      ]
    },
    {
      "cell_type": "markdown",
      "metadata": {
        "id": "pXau_bzuvPkH",
        "colab_type": "text"
      },
      "source": [
        "***Detectamos NA en la casilla de Fecha y en la de Hora***"
      ]
    },
    {
      "cell_type": "code",
      "metadata": {
        "colab_type": "code",
        "id": "MjXKmesah-Ns",
        "colab": {}
      },
      "source": [
        "df = df_mov.dropna()"
      ],
      "execution_count": 0,
      "outputs": []
    },
    {
      "cell_type": "code",
      "metadata": {
        "colab_type": "code",
        "id": "rzJTMVTziwHH",
        "colab": {
          "base_uri": "https://localhost:8080/",
          "height": 173
        },
        "outputId": "a25bbae1-3674-472e-a69b-0c3677681797"
      },
      "source": [
        "df.isnull().any()"
      ],
      "execution_count": 11,
      "outputs": [
        {
          "output_type": "execute_result",
          "data": {
            "text/plain": [
              "Numero_de_cuenta       False\n",
              "Monto_transacción      False\n",
              "Sucursal_nombre        False\n",
              "Fecha_Transaccion      False\n",
              "Hora_transaccion       False\n",
              "Tipo_de_Transacción    False\n",
              "Operador               False\n",
              "Referencia             False\n",
              "dtype: bool"
            ]
          },
          "metadata": {
            "tags": []
          },
          "execution_count": 11
        }
      ]
    },
    {
      "cell_type": "code",
      "metadata": {
        "id": "bXM2LGDWvbFG",
        "colab_type": "code",
        "colab": {
          "base_uri": "https://localhost:8080/",
          "height": 52
        },
        "outputId": "955e8462-c1b7-4f6c-c94b-8b0fce1d26bd"
      },
      "source": [
        "print (df.shape)\n",
        "print (df_mov.shape)"
      ],
      "execution_count": 12,
      "outputs": [
        {
          "output_type": "stream",
          "text": [
            "(65528, 8)\n",
            "(65534, 8)\n"
          ],
          "name": "stdout"
        }
      ]
    },
    {
      "cell_type": "markdown",
      "metadata": {
        "id": "kXfUvvc1vqPA",
        "colab_type": "text"
      },
      "source": [
        "**Podemos observar que el eliminar las transacciones sin fecha y hora no reduce mucho el dataset**"
      ]
    },
    {
      "cell_type": "markdown",
      "metadata": {
        "id": "z9AbuvcqwvoA",
        "colab_type": "text"
      },
      "source": [
        "# Posibles transacciones fraudulentas\n",
        "**Estas transacciones no contienen ni fecha ni hora por lo que seria recomendable examinarlas más a detalle**"
      ]
    },
    {
      "cell_type": "code",
      "metadata": {
        "id": "8-3awQNrv1kP",
        "colab_type": "code",
        "colab": {
          "base_uri": "https://localhost:8080/",
          "height": 233
        },
        "outputId": "fd385346-484e-4cd2-b9c2-0d62ef6e1789"
      },
      "source": [
        "df_mov[df_mov['Fecha_Transaccion'].isnull()]"
      ],
      "execution_count": 19,
      "outputs": [
        {
          "output_type": "execute_result",
          "data": {
            "text/html": [
              "<div>\n",
              "<style scoped>\n",
              "    .dataframe tbody tr th:only-of-type {\n",
              "        vertical-align: middle;\n",
              "    }\n",
              "\n",
              "    .dataframe tbody tr th {\n",
              "        vertical-align: top;\n",
              "    }\n",
              "\n",
              "    .dataframe thead th {\n",
              "        text-align: right;\n",
              "    }\n",
              "</style>\n",
              "<table border=\"1\" class=\"dataframe\">\n",
              "  <thead>\n",
              "    <tr style=\"text-align: right;\">\n",
              "      <th></th>\n",
              "      <th>Numero_de_cuenta</th>\n",
              "      <th>Monto_transacción</th>\n",
              "      <th>Sucursal_nombre</th>\n",
              "      <th>Fecha_Transaccion</th>\n",
              "      <th>Hora_transaccion</th>\n",
              "      <th>Tipo_de_Transacción</th>\n",
              "      <th>Operador</th>\n",
              "      <th>Referencia</th>\n",
              "    </tr>\n",
              "  </thead>\n",
              "  <tbody>\n",
              "    <tr>\n",
              "      <th>62757</th>\n",
              "      <td>00CU984227</td>\n",
              "      <td>2757.48</td>\n",
              "      <td>CUAUHTEMOC</td>\n",
              "      <td>NaN</td>\n",
              "      <td>NaN</td>\n",
              "      <td>DEFE</td>\n",
              "      <td>CU5056</td>\n",
              "      <td>3001871</td>\n",
              "    </tr>\n",
              "    <tr>\n",
              "      <th>62788</th>\n",
              "      <td>00CU962219</td>\n",
              "      <td>13583.70</td>\n",
              "      <td>CUAUHTEMOC</td>\n",
              "      <td>NaN</td>\n",
              "      <td>NaN</td>\n",
              "      <td>DCHQ</td>\n",
              "      <td>CU5052</td>\n",
              "      <td>3001902</td>\n",
              "    </tr>\n",
              "    <tr>\n",
              "      <th>62789</th>\n",
              "      <td>00CU980770</td>\n",
              "      <td>1200.00</td>\n",
              "      <td>CUAUHTEMOC</td>\n",
              "      <td>NaN</td>\n",
              "      <td>NaN</td>\n",
              "      <td>DEFE</td>\n",
              "      <td>CU5056</td>\n",
              "      <td>3001903</td>\n",
              "    </tr>\n",
              "    <tr>\n",
              "      <th>62790</th>\n",
              "      <td>00CU980883</td>\n",
              "      <td>5582.80</td>\n",
              "      <td>CUAUHTEMOC</td>\n",
              "      <td>NaN</td>\n",
              "      <td>NaN</td>\n",
              "      <td>DEFE</td>\n",
              "      <td>CU5029</td>\n",
              "      <td>3001904</td>\n",
              "    </tr>\n",
              "    <tr>\n",
              "      <th>62791</th>\n",
              "      <td>00CU980883</td>\n",
              "      <td>1861.04</td>\n",
              "      <td>CUAUHTEMOC</td>\n",
              "      <td>NaN</td>\n",
              "      <td>NaN</td>\n",
              "      <td>DEFE</td>\n",
              "      <td>CU5032</td>\n",
              "      <td>3001905</td>\n",
              "    </tr>\n",
              "    <tr>\n",
              "      <th>63775</th>\n",
              "      <td>00IP989289</td>\n",
              "      <td>526.24</td>\n",
              "      <td>IZTAPALAPA</td>\n",
              "      <td>NaN</td>\n",
              "      <td>NaN</td>\n",
              "      <td>DEFE</td>\n",
              "      <td>IP1047</td>\n",
              "      <td>3002889</td>\n",
              "    </tr>\n",
              "  </tbody>\n",
              "</table>\n",
              "</div>"
            ],
            "text/plain": [
              "      Numero_de_cuenta  Monto_transacción  ... Operador Referencia\n",
              "62757       00CU984227            2757.48  ...   CU5056    3001871\n",
              "62788       00CU962219           13583.70  ...   CU5052    3001902\n",
              "62789       00CU980770            1200.00  ...   CU5056    3001903\n",
              "62790       00CU980883            5582.80  ...   CU5029    3001904\n",
              "62791       00CU980883            1861.04  ...   CU5032    3001905\n",
              "63775       00IP989289             526.24  ...   IP1047    3002889\n",
              "\n",
              "[6 rows x 8 columns]"
            ]
          },
          "metadata": {
            "tags": []
          },
          "execution_count": 19
        }
      ]
    },
    {
      "cell_type": "markdown",
      "metadata": {
        "id": "a6cDVTlCxBDr",
        "colab_type": "text"
      },
      "source": [
        "# Analisis (cont)\n",
        "\n",
        "\n",
        "continuamos trabajando con el Dataset df que ya no contiene los valores NA\n",
        "por lo que el análisis es más consistente\n"
      ]
    },
    {
      "cell_type": "code",
      "metadata": {
        "colab_type": "code",
        "id": "td7xEkkKiyu-",
        "colab": {
          "base_uri": "https://localhost:8080/",
          "height": 242
        },
        "outputId": "7c4a39b4-2659-4109-c78b-b5d4dd6a2038"
      },
      "source": [
        "df.info()"
      ],
      "execution_count": 15,
      "outputs": [
        {
          "output_type": "stream",
          "text": [
            "<class 'pandas.core.frame.DataFrame'>\n",
            "Int64Index: 65528 entries, 0 to 65533\n",
            "Data columns (total 8 columns):\n",
            "Numero_de_cuenta       65528 non-null object\n",
            "Monto_transacción      65528 non-null float64\n",
            "Sucursal_nombre        65528 non-null object\n",
            "Fecha_Transaccion      65528 non-null object\n",
            "Hora_transaccion       65528 non-null object\n",
            "Tipo_de_Transacción    65528 non-null object\n",
            "Operador               65528 non-null object\n",
            "Referencia             65528 non-null int64\n",
            "dtypes: float64(1), int64(1), object(6)\n",
            "memory usage: 4.5+ MB\n"
          ],
          "name": "stdout"
        }
      ]
    },
    {
      "cell_type": "markdown",
      "metadata": {
        "id": "l95qscEbxZjz",
        "colab_type": "text"
      },
      "source": [
        "**Como habiamos observado anteriormente, algunas transacciones son mucho más altas que el resto por lo \n",
        "que  la distribucion de las transacciones esta en 0**"
      ]
    },
    {
      "cell_type": "code",
      "metadata": {
        "colab_type": "code",
        "id": "YXNYfgS1mUAZ",
        "colab": {
          "base_uri": "https://localhost:8080/",
          "height": 292
        },
        "outputId": "50003cd9-8228-44a6-f0a1-ae166fb65efe"
      },
      "source": [
        "sns.distplot(df['Monto_transacción']);"
      ],
      "execution_count": 16,
      "outputs": [
        {
          "output_type": "display_data",
          "data": {
            "image/png": "[encoded data removed]",
            "text/plain": [
              "<Figure size 432x288 with 1 Axes>"
            ]
          },
          "metadata": {
            "tags": []
          }
        }
      ]
    },
    {
      "cell_type": "code",
      "metadata": {
        "colab_type": "code",
        "id": "EUhgtN67AHWR",
        "colab": {
          "base_uri": "https://localhost:8080/",
          "height": 202
        },
        "outputId": "e24dc32f-0c13-41e7-b2ed-50c2cea5ca4e"
      },
      "source": [
        "df_cd = df\n",
        "df_cd.head(5)"
      ],
      "execution_count": 19,
      "outputs": [
        {
          "output_type": "execute_result",
          "data": {
            "text/html": [
              "<div>\n",
              "<style scoped>\n",
              "    .dataframe tbody tr th:only-of-type {\n",
              "        vertical-align: middle;\n",
              "    }\n",
              "\n",
              "    .dataframe tbody tr th {\n",
              "        vertical-align: top;\n",
              "    }\n",
              "\n",
              "    .dataframe thead th {\n",
              "        text-align: right;\n",
              "    }\n",
              "</style>\n",
              "<table border=\"1\" class=\"dataframe\">\n",
              "  <thead>\n",
              "    <tr style=\"text-align: right;\">\n",
              "      <th></th>\n",
              "      <th>Numero_de_cuenta</th>\n",
              "      <th>Monto_transacción</th>\n",
              "      <th>Sucursal_nombre</th>\n",
              "      <th>Fecha_Transaccion</th>\n",
              "      <th>Hora_transaccion</th>\n",
              "      <th>Tipo_de_Transacción</th>\n",
              "      <th>Operador</th>\n",
              "      <th>Referencia</th>\n",
              "    </tr>\n",
              "  </thead>\n",
              "  <tbody>\n",
              "    <tr>\n",
              "      <th>0</th>\n",
              "      <td>00BJ987645</td>\n",
              "      <td>409.29</td>\n",
              "      <td>BENITO JUÁREZ</td>\n",
              "      <td>6/15/2015</td>\n",
              "      <td>02:56:08 a. m.</td>\n",
              "      <td>DEFE</td>\n",
              "      <td>BJ1037</td>\n",
              "      <td>3064980</td>\n",
              "    </tr>\n",
              "    <tr>\n",
              "      <th>1</th>\n",
              "      <td>00BJ961410</td>\n",
              "      <td>525.00</td>\n",
              "      <td>BENITO JUÁREZ</td>\n",
              "      <td>6/10/2015</td>\n",
              "      <td>02:56:08 a. m.</td>\n",
              "      <td>RECJ</td>\n",
              "      <td>BJ1037</td>\n",
              "      <td>3064981</td>\n",
              "    </tr>\n",
              "    <tr>\n",
              "      <th>2</th>\n",
              "      <td>00BJ962496</td>\n",
              "      <td>1114475.13</td>\n",
              "      <td>BENITO JUÁREZ</td>\n",
              "      <td>5/27/2015</td>\n",
              "      <td>02:56:08 a. m.</td>\n",
              "      <td>DCHQ</td>\n",
              "      <td>BJ0104</td>\n",
              "      <td>3064982</td>\n",
              "    </tr>\n",
              "    <tr>\n",
              "      <th>3</th>\n",
              "      <td>00BJ980224</td>\n",
              "      <td>111483.75</td>\n",
              "      <td>BENITO JUÁREZ</td>\n",
              "      <td>5/9/2015</td>\n",
              "      <td>02:56:08 a. m.</td>\n",
              "      <td>DCHQ</td>\n",
              "      <td>BJ0105</td>\n",
              "      <td>3064983</td>\n",
              "    </tr>\n",
              "    <tr>\n",
              "      <th>4</th>\n",
              "      <td>00BJ962502</td>\n",
              "      <td>10533.54</td>\n",
              "      <td>BENITO JUÁREZ</td>\n",
              "      <td>5/5/2015</td>\n",
              "      <td>02:56:08 a. m.</td>\n",
              "      <td>DCHQ</td>\n",
              "      <td>BJ0109</td>\n",
              "      <td>3064984</td>\n",
              "    </tr>\n",
              "  </tbody>\n",
              "</table>\n",
              "</div>"
            ],
            "text/plain": [
              "  Numero_de_cuenta  Monto_transacción  ... Operador Referencia\n",
              "0       00BJ987645             409.29  ...   BJ1037    3064980\n",
              "1       00BJ961410             525.00  ...   BJ1037    3064981\n",
              "2       00BJ962496         1114475.13  ...   BJ0104    3064982\n",
              "3       00BJ980224          111483.75  ...   BJ0105    3064983\n",
              "4       00BJ962502           10533.54  ...   BJ0109    3064984\n",
              "\n",
              "[5 rows x 8 columns]"
            ]
          },
          "metadata": {
            "tags": []
          },
          "execution_count": 19
        }
      ]
    },
    {
      "cell_type": "markdown",
      "metadata": {
        "id": "oWn1z1bQx5mr",
        "colab_type": "text"
      },
      "source": [
        "# Creamos un nuevo DS incluyendo Aperturas y Movimientos\n",
        "\n",
        "Unimos los datasets mediante el Numero de cuenta por que es un atributo \n",
        "en común en ambos DS"
      ]
    },
    {
      "cell_type": "code",
      "metadata": {
        "colab_type": "code",
        "id": "zQ8qaoafxeXM",
        "colab": {}
      },
      "source": [
        "df_cd = pd.merge(df_aperturas, df, how='inner', on = 'Numero_de_cuenta')"
      ],
      "execution_count": 0,
      "outputs": []
    },
    {
      "cell_type": "code",
      "metadata": {
        "colab_type": "code",
        "id": "6jel-kilAJvY",
        "colab": {
          "base_uri": "https://localhost:8080/",
          "height": 34
        },
        "outputId": "a30f0f67-6d63-4155-ad53-14310dbe2bf2"
      },
      "source": [
        "print(df_cd.shape)"
      ],
      "execution_count": 21,
      "outputs": [
        {
          "output_type": "stream",
          "text": [
            "(65518, 12)\n"
          ],
          "name": "stdout"
        }
      ]
    },
    {
      "cell_type": "markdown",
      "metadata": {
        "id": "jnlj7AIMyOwK",
        "colab_type": "text"
      },
      "source": [
        "Observamos que la figura del DS no cambio mucho por lo que podemos continuar con el analisis"
      ]
    },
    {
      "cell_type": "markdown",
      "metadata": {
        "id": "00kziqXAydWa",
        "colab_type": "text"
      },
      "source": [
        "# Creacion de Variables Dummies\n",
        "\n",
        "Transformamos las variables categoricas de \n",
        "**Tipo de Instrumento**\n",
        "y de \n",
        "**Tipo de Transaccion**\n",
        "en columnas binarias (1,0) para facilitar el análisis\n",
        "y poder trabajar con variables categoricas"
      ]
    },
    {
      "cell_type": "code",
      "metadata": {
        "colab_type": "code",
        "id": "qNXnWthVAhRa",
        "colab": {}
      },
      "source": [
        "cols_to_transform = [ 'Tipo_de_Instrumento',  'Tipo_de_Transacción', ]\n",
        "df_with_dummies = pd.get_dummies(df_cd,columns = cols_to_transform )"
      ],
      "execution_count": 0,
      "outputs": []
    },
    {
      "cell_type": "code",
      "metadata": {
        "colab_type": "code",
        "id": "dOK6iaGvMasG",
        "colab": {
          "base_uri": "https://localhost:8080/",
          "height": 240
        },
        "outputId": "8ad36920-bee9-4718-bb05-85fba50e6f19"
      },
      "source": [
        "df_with_dummies.head(5)"
      ],
      "execution_count": 23,
      "outputs": [
        {
          "output_type": "execute_result",
          "data": {
            "text/html": [
              "<div>\n",
              "<style scoped>\n",
              "    .dataframe tbody tr th:only-of-type {\n",
              "        vertical-align: middle;\n",
              "    }\n",
              "\n",
              "    .dataframe tbody tr th {\n",
              "        vertical-align: top;\n",
              "    }\n",
              "\n",
              "    .dataframe thead th {\n",
              "        text-align: right;\n",
              "    }\n",
              "</style>\n",
              "<table border=\"1\" class=\"dataframe\">\n",
              "  <thead>\n",
              "    <tr style=\"text-align: right;\">\n",
              "      <th></th>\n",
              "      <th>Numero_de_cuenta</th>\n",
              "      <th>Monto_de_apertura</th>\n",
              "      <th>Fecha_Apertura</th>\n",
              "      <th>Cliente</th>\n",
              "      <th>Monto_transacción</th>\n",
              "      <th>Sucursal_nombre</th>\n",
              "      <th>Fecha_Transaccion</th>\n",
              "      <th>Hora_transaccion</th>\n",
              "      <th>Operador</th>\n",
              "      <th>Referencia</th>\n",
              "      <th>Tipo_de_Instrumento_Cuenta corriente</th>\n",
              "      <th>Tipo_de_Instrumento_Cuenta de ahorro</th>\n",
              "      <th>Tipo_de_Transacción_DCHQ</th>\n",
              "      <th>Tipo_de_Transacción_DEFE</th>\n",
              "      <th>Tipo_de_Transacción_RECJ</th>\n",
              "      <th>Tipo_de_Transacción_REVN</th>\n",
              "    </tr>\n",
              "  </thead>\n",
              "  <tbody>\n",
              "    <tr>\n",
              "      <th>0</th>\n",
              "      <td>00MH985399</td>\n",
              "      <td>16046.40</td>\n",
              "      <td>3/6/2014</td>\n",
              "      <td>100540012</td>\n",
              "      <td>2386.56</td>\n",
              "      <td>MIGUEL HIDALGO</td>\n",
              "      <td>1/1/2015</td>\n",
              "      <td>09:23:18 a. m.</td>\n",
              "      <td>MH5507</td>\n",
              "      <td>3013311</td>\n",
              "      <td>1</td>\n",
              "      <td>0</td>\n",
              "      <td>0</td>\n",
              "      <td>1</td>\n",
              "      <td>0</td>\n",
              "      <td>0</td>\n",
              "    </tr>\n",
              "    <tr>\n",
              "      <th>1</th>\n",
              "      <td>00MH985399</td>\n",
              "      <td>16046.40</td>\n",
              "      <td>3/6/2014</td>\n",
              "      <td>100540012</td>\n",
              "      <td>13424.64</td>\n",
              "      <td>MIGUEL HIDALGO</td>\n",
              "      <td>4/22/2015</td>\n",
              "      <td>01:51:35 a. m.</td>\n",
              "      <td>MH5506</td>\n",
              "      <td>3010412</td>\n",
              "      <td>1</td>\n",
              "      <td>0</td>\n",
              "      <td>1</td>\n",
              "      <td>0</td>\n",
              "      <td>0</td>\n",
              "      <td>0</td>\n",
              "    </tr>\n",
              "    <tr>\n",
              "      <th>2</th>\n",
              "      <td>00MH985399</td>\n",
              "      <td>16046.40</td>\n",
              "      <td>3/6/2014</td>\n",
              "      <td>100540012</td>\n",
              "      <td>235.20</td>\n",
              "      <td>MIGUEL HIDALGO</td>\n",
              "      <td>6/16/2015</td>\n",
              "      <td>12:29:25 p. m.</td>\n",
              "      <td>MH5505</td>\n",
              "      <td>3006370</td>\n",
              "      <td>1</td>\n",
              "      <td>0</td>\n",
              "      <td>0</td>\n",
              "      <td>1</td>\n",
              "      <td>0</td>\n",
              "      <td>0</td>\n",
              "    </tr>\n",
              "    <tr>\n",
              "      <th>3</th>\n",
              "      <td>00CU982321</td>\n",
              "      <td>379072.47</td>\n",
              "      <td>11/24/2014</td>\n",
              "      <td>100540013</td>\n",
              "      <td>221932.08</td>\n",
              "      <td>CUAUHTEMOC</td>\n",
              "      <td>7/1/2015</td>\n",
              "      <td>10:13:31 a. m.</td>\n",
              "      <td>CU5021</td>\n",
              "      <td>3062323</td>\n",
              "      <td>1</td>\n",
              "      <td>0</td>\n",
              "      <td>1</td>\n",
              "      <td>0</td>\n",
              "      <td>0</td>\n",
              "      <td>0</td>\n",
              "    </tr>\n",
              "    <tr>\n",
              "      <th>4</th>\n",
              "      <td>00CU982321</td>\n",
              "      <td>379072.47</td>\n",
              "      <td>11/24/2014</td>\n",
              "      <td>100540013</td>\n",
              "      <td>4943.90</td>\n",
              "      <td>CUAUHTEMOC</td>\n",
              "      <td>6/26/2015</td>\n",
              "      <td>05:03:03 a. m.</td>\n",
              "      <td>CU5034</td>\n",
              "      <td>3059068</td>\n",
              "      <td>1</td>\n",
              "      <td>0</td>\n",
              "      <td>0</td>\n",
              "      <td>1</td>\n",
              "      <td>0</td>\n",
              "      <td>0</td>\n",
              "    </tr>\n",
              "  </tbody>\n",
              "</table>\n",
              "</div>"
            ],
            "text/plain": [
              "  Numero_de_cuenta  ...  Tipo_de_Transacción_REVN\n",
              "0       00MH985399  ...                         0\n",
              "1       00MH985399  ...                         0\n",
              "2       00MH985399  ...                         0\n",
              "3       00CU982321  ...                         0\n",
              "4       00CU982321  ...                         0\n",
              "\n",
              "[5 rows x 16 columns]"
            ]
          },
          "metadata": {
            "tags": []
          },
          "execution_count": 23
        }
      ]
    },
    {
      "cell_type": "markdown",
      "metadata": {
        "id": "Y9BMP5H7y719",
        "colab_type": "text"
      },
      "source": [
        "**Graficamos la distribucion de un tipo de instrumento para verificar que\n",
        "la transformacion se haya realizado correctamente**"
      ]
    },
    {
      "cell_type": "code",
      "metadata": {
        "colab_type": "code",
        "id": "oTHzn-TUnLGz",
        "colab": {
          "base_uri": "https://localhost:8080/",
          "height": 284
        },
        "outputId": "f1b9809c-d245-4d12-aa96-5537f393aeff"
      },
      "source": [
        "sns.distplot(df_with_dummies['Tipo_de_Instrumento_Cuenta corriente']);"
      ],
      "execution_count": 26,
      "outputs": [
        {
          "output_type": "display_data",
          "data": {
            "image/png": "[encoded data removed]",
            "text/plain": [
              "<Figure size 432x288 with 1 Axes>"
            ]
          },
          "metadata": {
            "tags": []
          }
        }
      ]
    },
    {
      "cell_type": "markdown",
      "metadata": {
        "id": "diRSTiSlzQm1",
        "colab_type": "text"
      },
      "source": [
        "# Transformación de fechas en texto a formato de DateTime\n",
        "\n",
        "\n",
        "Observamos que las variables de Fecha de Apertura, Hora de Transacción y Fecha de \n",
        "Transacción estan en formato de texto por lo que las transformamos a Datetime para poder\n",
        "realizar analisis con esas variables"
      ]
    },
    {
      "cell_type": "code",
      "metadata": {
        "colab_type": "code",
        "id": "dQGrCsv9ooLh",
        "colab": {
          "base_uri": "https://localhost:8080/",
          "height": 312
        },
        "outputId": "0ebf553d-5d8f-42f3-e37b-b7a84e6c1f14"
      },
      "source": [
        "df_cd.info()\n",
        "df_time = df_cd"
      ],
      "execution_count": 27,
      "outputs": [
        {
          "output_type": "stream",
          "text": [
            "<class 'pandas.core.frame.DataFrame'>\n",
            "Int64Index: 65518 entries, 0 to 65517\n",
            "Data columns (total 12 columns):\n",
            "Numero_de_cuenta       65518 non-null object\n",
            "Monto_de_apertura      65518 non-null float64\n",
            "Fecha_Apertura         65518 non-null object\n",
            "Cliente                65518 non-null int64\n",
            "Tipo_de_Instrumento    65518 non-null object\n",
            "Monto_transacción      65518 non-null float64\n",
            "Sucursal_nombre        65518 non-null object\n",
            "Fecha_Transaccion      65518 non-null object\n",
            "Hora_transaccion       65518 non-null object\n",
            "Tipo_de_Transacción    65518 non-null object\n",
            "Operador               65518 non-null object\n",
            "Referencia             65518 non-null int64\n",
            "dtypes: float64(2), int64(2), object(8)\n",
            "memory usage: 6.5+ MB\n"
          ],
          "name": "stdout"
        }
      ]
    },
    {
      "cell_type": "markdown",
      "metadata": {
        "id": "_IrgDq3qzzPN",
        "colab_type": "text"
      },
      "source": [
        "Creamos una columna en formato datetime"
      ]
    },
    {
      "cell_type": "code",
      "metadata": {
        "colab_type": "code",
        "id": "hlU9-b0Apl-y",
        "colab": {
          "base_uri": "https://localhost:8080/",
          "height": 329
        },
        "outputId": "2a8cd124-3152-43f9-8bd6-9ffe175c0072"
      },
      "source": [
        "df_time['Fecha Transaccion'] = pd.to_datetime(df_time['Fecha_Transaccion'] + ' ' + df_time['Hora_transaccion'])\n",
        "df_time.info()"
      ],
      "execution_count": 28,
      "outputs": [
        {
          "output_type": "stream",
          "text": [
            "<class 'pandas.core.frame.DataFrame'>\n",
            "Int64Index: 65518 entries, 0 to 65517\n",
            "Data columns (total 13 columns):\n",
            "Numero_de_cuenta       65518 non-null object\n",
            "Monto_de_apertura      65518 non-null float64\n",
            "Fecha_Apertura         65518 non-null object\n",
            "Cliente                65518 non-null int64\n",
            "Tipo_de_Instrumento    65518 non-null object\n",
            "Monto_transacción      65518 non-null float64\n",
            "Sucursal_nombre        65518 non-null object\n",
            "Fecha_Transaccion      65518 non-null object\n",
            "Hora_transaccion       65518 non-null object\n",
            "Tipo_de_Transacción    65518 non-null object\n",
            "Operador               65518 non-null object\n",
            "Referencia             65518 non-null int64\n",
            "Fecha Transaccion      65518 non-null datetime64[ns]\n",
            "dtypes: datetime64[ns](1), float64(2), int64(2), object(8)\n",
            "memory usage: 7.0+ MB\n"
          ],
          "name": "stdout"
        }
      ]
    },
    {
      "cell_type": "code",
      "metadata": {
        "colab_type": "code",
        "id": "N2fLz5ietdDR",
        "colab": {
          "base_uri": "https://localhost:8080/",
          "height": 326
        },
        "outputId": "c52f6f9b-fce4-4655-ecdc-38299e7c269a"
      },
      "source": [
        "df_time.head(5)"
      ],
      "execution_count": 30,
      "outputs": [
        {
          "output_type": "execute_result",
          "data": {
            "text/html": [
              "<div>\n",
              "<style scoped>\n",
              "    .dataframe tbody tr th:only-of-type {\n",
              "        vertical-align: middle;\n",
              "    }\n",
              "\n",
              "    .dataframe tbody tr th {\n",
              "        vertical-align: top;\n",
              "    }\n",
              "\n",
              "    .dataframe thead th {\n",
              "        text-align: right;\n",
              "    }\n",
              "</style>\n",
              "<table border=\"1\" class=\"dataframe\">\n",
              "  <thead>\n",
              "    <tr style=\"text-align: right;\">\n",
              "      <th></th>\n",
              "      <th>Numero_de_cuenta</th>\n",
              "      <th>Monto_de_apertura</th>\n",
              "      <th>Fecha_Apertura</th>\n",
              "      <th>Cliente</th>\n",
              "      <th>Tipo_de_Instrumento</th>\n",
              "      <th>Monto_transacción</th>\n",
              "      <th>Sucursal_nombre</th>\n",
              "      <th>Fecha_Transaccion</th>\n",
              "      <th>Hora_transaccion</th>\n",
              "      <th>Tipo_de_Transacción</th>\n",
              "      <th>Operador</th>\n",
              "      <th>Referencia</th>\n",
              "      <th>Fecha Transaccion</th>\n",
              "    </tr>\n",
              "  </thead>\n",
              "  <tbody>\n",
              "    <tr>\n",
              "      <th>0</th>\n",
              "      <td>00MH985399</td>\n",
              "      <td>16046.40</td>\n",
              "      <td>3/6/2014</td>\n",
              "      <td>100540012</td>\n",
              "      <td>Cuenta corriente</td>\n",
              "      <td>2386.56</td>\n",
              "      <td>MIGUEL HIDALGO</td>\n",
              "      <td>1/1/2015</td>\n",
              "      <td>09:23:18 a. m.</td>\n",
              "      <td>DEFE</td>\n",
              "      <td>MH5507</td>\n",
              "      <td>3013311</td>\n",
              "      <td>2015-01-01 09:23:18</td>\n",
              "    </tr>\n",
              "    <tr>\n",
              "      <th>1</th>\n",
              "      <td>00MH985399</td>\n",
              "      <td>16046.40</td>\n",
              "      <td>3/6/2014</td>\n",
              "      <td>100540012</td>\n",
              "      <td>Cuenta corriente</td>\n",
              "      <td>13424.64</td>\n",
              "      <td>MIGUEL HIDALGO</td>\n",
              "      <td>4/22/2015</td>\n",
              "      <td>01:51:35 a. m.</td>\n",
              "      <td>DCHQ</td>\n",
              "      <td>MH5506</td>\n",
              "      <td>3010412</td>\n",
              "      <td>2015-04-22 01:51:35</td>\n",
              "    </tr>\n",
              "    <tr>\n",
              "      <th>2</th>\n",
              "      <td>00MH985399</td>\n",
              "      <td>16046.40</td>\n",
              "      <td>3/6/2014</td>\n",
              "      <td>100540012</td>\n",
              "      <td>Cuenta corriente</td>\n",
              "      <td>235.20</td>\n",
              "      <td>MIGUEL HIDALGO</td>\n",
              "      <td>6/16/2015</td>\n",
              "      <td>12:29:25 p. m.</td>\n",
              "      <td>DEFE</td>\n",
              "      <td>MH5505</td>\n",
              "      <td>3006370</td>\n",
              "      <td>2015-06-16 12:29:25</td>\n",
              "    </tr>\n",
              "    <tr>\n",
              "      <th>3</th>\n",
              "      <td>00CU982321</td>\n",
              "      <td>379072.47</td>\n",
              "      <td>11/24/2014</td>\n",
              "      <td>100540013</td>\n",
              "      <td>Cuenta corriente</td>\n",
              "      <td>221932.08</td>\n",
              "      <td>CUAUHTEMOC</td>\n",
              "      <td>7/1/2015</td>\n",
              "      <td>10:13:31 a. m.</td>\n",
              "      <td>DCHQ</td>\n",
              "      <td>CU5021</td>\n",
              "      <td>3062323</td>\n",
              "      <td>2015-07-01 10:13:31</td>\n",
              "    </tr>\n",
              "    <tr>\n",
              "      <th>4</th>\n",
              "      <td>00CU982321</td>\n",
              "      <td>379072.47</td>\n",
              "      <td>11/24/2014</td>\n",
              "      <td>100540013</td>\n",
              "      <td>Cuenta corriente</td>\n",
              "      <td>4943.90</td>\n",
              "      <td>CUAUHTEMOC</td>\n",
              "      <td>6/26/2015</td>\n",
              "      <td>05:03:03 a. m.</td>\n",
              "      <td>DEFE</td>\n",
              "      <td>CU5034</td>\n",
              "      <td>3059068</td>\n",
              "      <td>2015-06-26 05:03:03</td>\n",
              "    </tr>\n",
              "  </tbody>\n",
              "</table>\n",
              "</div>"
            ],
            "text/plain": [
              "  Numero_de_cuenta  Monto_de_apertura  ... Referencia   Fecha Transaccion\n",
              "0       00MH985399           16046.40  ...    3013311 2015-01-01 09:23:18\n",
              "1       00MH985399           16046.40  ...    3010412 2015-04-22 01:51:35\n",
              "2       00MH985399           16046.40  ...    3006370 2015-06-16 12:29:25\n",
              "3       00CU982321          379072.47  ...    3062323 2015-07-01 10:13:31\n",
              "4       00CU982321          379072.47  ...    3059068 2015-06-26 05:03:03\n",
              "\n",
              "[5 rows x 13 columns]"
            ]
          },
          "metadata": {
            "tags": []
          },
          "execution_count": 30
        }
      ]
    },
    {
      "cell_type": "markdown",
      "metadata": {
        "id": "2lnO3ji00D_U",
        "colab_type": "text"
      },
      "source": [
        "**Eliminamos las columnas de Fecha y Hora de transaccion originales**"
      ]
    },
    {
      "cell_type": "code",
      "metadata": {
        "colab_type": "code",
        "id": "5MWVWn9AuMik",
        "colab": {}
      },
      "source": [
        "df_time = df_time.drop(columns=['Fecha_Transaccion','Hora_transaccion'])"
      ],
      "execution_count": 0,
      "outputs": []
    },
    {
      "cell_type": "code",
      "metadata": {
        "colab_type": "code",
        "id": "S4f_mpLSuRE7",
        "colab": {
          "base_uri": "https://localhost:8080/",
          "height": 202
        },
        "outputId": "e7105d2d-d1a5-4f37-8f55-ac133ec4a92b"
      },
      "source": [
        "df_time.head(5)"
      ],
      "execution_count": 33,
      "outputs": [
        {
          "output_type": "execute_result",
          "data": {
            "text/html": [
              "<div>\n",
              "<style scoped>\n",
              "    .dataframe tbody tr th:only-of-type {\n",
              "        vertical-align: middle;\n",
              "    }\n",
              "\n",
              "    .dataframe tbody tr th {\n",
              "        vertical-align: top;\n",
              "    }\n",
              "\n",
              "    .dataframe thead th {\n",
              "        text-align: right;\n",
              "    }\n",
              "</style>\n",
              "<table border=\"1\" class=\"dataframe\">\n",
              "  <thead>\n",
              "    <tr style=\"text-align: right;\">\n",
              "      <th></th>\n",
              "      <th>Numero_de_cuenta</th>\n",
              "      <th>Monto_de_apertura</th>\n",
              "      <th>Fecha_Apertura</th>\n",
              "      <th>Cliente</th>\n",
              "      <th>Tipo_de_Instrumento</th>\n",
              "      <th>Monto_transacción</th>\n",
              "      <th>Sucursal_nombre</th>\n",
              "      <th>Tipo_de_Transacción</th>\n",
              "      <th>Operador</th>\n",
              "      <th>Referencia</th>\n",
              "      <th>Fecha Transaccion</th>\n",
              "    </tr>\n",
              "  </thead>\n",
              "  <tbody>\n",
              "    <tr>\n",
              "      <th>0</th>\n",
              "      <td>00MH985399</td>\n",
              "      <td>16046.40</td>\n",
              "      <td>3/6/2014</td>\n",
              "      <td>100540012</td>\n",
              "      <td>Cuenta corriente</td>\n",
              "      <td>2386.56</td>\n",
              "      <td>MIGUEL HIDALGO</td>\n",
              "      <td>DEFE</td>\n",
              "      <td>MH5507</td>\n",
              "      <td>3013311</td>\n",
              "      <td>2015-01-01 09:23:18</td>\n",
              "    </tr>\n",
              "    <tr>\n",
              "      <th>1</th>\n",
              "      <td>00MH985399</td>\n",
              "      <td>16046.40</td>\n",
              "      <td>3/6/2014</td>\n",
              "      <td>100540012</td>\n",
              "      <td>Cuenta corriente</td>\n",
              "      <td>13424.64</td>\n",
              "      <td>MIGUEL HIDALGO</td>\n",
              "      <td>DCHQ</td>\n",
              "      <td>MH5506</td>\n",
              "      <td>3010412</td>\n",
              "      <td>2015-04-22 01:51:35</td>\n",
              "    </tr>\n",
              "    <tr>\n",
              "      <th>2</th>\n",
              "      <td>00MH985399</td>\n",
              "      <td>16046.40</td>\n",
              "      <td>3/6/2014</td>\n",
              "      <td>100540012</td>\n",
              "      <td>Cuenta corriente</td>\n",
              "      <td>235.20</td>\n",
              "      <td>MIGUEL HIDALGO</td>\n",
              "      <td>DEFE</td>\n",
              "      <td>MH5505</td>\n",
              "      <td>3006370</td>\n",
              "      <td>2015-06-16 12:29:25</td>\n",
              "    </tr>\n",
              "    <tr>\n",
              "      <th>3</th>\n",
              "      <td>00CU982321</td>\n",
              "      <td>379072.47</td>\n",
              "      <td>11/24/2014</td>\n",
              "      <td>100540013</td>\n",
              "      <td>Cuenta corriente</td>\n",
              "      <td>221932.08</td>\n",
              "      <td>CUAUHTEMOC</td>\n",
              "      <td>DCHQ</td>\n",
              "      <td>CU5021</td>\n",
              "      <td>3062323</td>\n",
              "      <td>2015-07-01 10:13:31</td>\n",
              "    </tr>\n",
              "    <tr>\n",
              "      <th>4</th>\n",
              "      <td>00CU982321</td>\n",
              "      <td>379072.47</td>\n",
              "      <td>11/24/2014</td>\n",
              "      <td>100540013</td>\n",
              "      <td>Cuenta corriente</td>\n",
              "      <td>4943.90</td>\n",
              "      <td>CUAUHTEMOC</td>\n",
              "      <td>DEFE</td>\n",
              "      <td>CU5034</td>\n",
              "      <td>3059068</td>\n",
              "      <td>2015-06-26 05:03:03</td>\n",
              "    </tr>\n",
              "  </tbody>\n",
              "</table>\n",
              "</div>"
            ],
            "text/plain": [
              "  Numero_de_cuenta  Monto_de_apertura  ... Referencia   Fecha Transaccion\n",
              "0       00MH985399           16046.40  ...    3013311 2015-01-01 09:23:18\n",
              "1       00MH985399           16046.40  ...    3010412 2015-04-22 01:51:35\n",
              "2       00MH985399           16046.40  ...    3006370 2015-06-16 12:29:25\n",
              "3       00CU982321          379072.47  ...    3062323 2015-07-01 10:13:31\n",
              "4       00CU982321          379072.47  ...    3059068 2015-06-26 05:03:03\n",
              "\n",
              "[5 rows x 11 columns]"
            ]
          },
          "metadata": {
            "tags": []
          },
          "execution_count": 33
        }
      ]
    },
    {
      "cell_type": "markdown",
      "metadata": {
        "id": "Wv2nw5EF0SGt",
        "colab_type": "text"
      },
      "source": [
        "# Transformamos Fecha de Apertura a DateTime"
      ]
    },
    {
      "cell_type": "code",
      "metadata": {
        "colab_type": "code",
        "id": "q4eKa4YO0DQk",
        "colab": {}
      },
      "source": [
        "df_time['Fecha_Apertura'] = pd.to_datetime(df_time['Fecha_Apertura'])"
      ],
      "execution_count": 0,
      "outputs": []
    },
    {
      "cell_type": "code",
      "metadata": {
        "colab_type": "code",
        "id": "u2-AOMM80dBY",
        "colab": {
          "base_uri": "https://localhost:8080/",
          "height": 294
        },
        "outputId": "062c5e6f-7e52-406d-8bed-20a4cf82ee3f"
      },
      "source": [
        "df_time.info()"
      ],
      "execution_count": 35,
      "outputs": [
        {
          "output_type": "stream",
          "text": [
            "<class 'pandas.core.frame.DataFrame'>\n",
            "Int64Index: 65518 entries, 0 to 65517\n",
            "Data columns (total 11 columns):\n",
            "Numero_de_cuenta       65518 non-null object\n",
            "Monto_de_apertura      65518 non-null float64\n",
            "Fecha_Apertura         65518 non-null datetime64[ns]\n",
            "Cliente                65518 non-null int64\n",
            "Tipo_de_Instrumento    65518 non-null object\n",
            "Monto_transacción      65518 non-null float64\n",
            "Sucursal_nombre        65518 non-null object\n",
            "Tipo_de_Transacción    65518 non-null object\n",
            "Operador               65518 non-null object\n",
            "Referencia             65518 non-null int64\n",
            "Fecha Transaccion      65518 non-null datetime64[ns]\n",
            "dtypes: datetime64[ns](2), float64(2), int64(2), object(5)\n",
            "memory usage: 6.0+ MB\n"
          ],
          "name": "stdout"
        }
      ]
    },
    {
      "cell_type": "markdown",
      "metadata": {
        "id": "XikHVKIg0d4m",
        "colab_type": "text"
      },
      "source": [
        "**Podemos observar que ya todas nuestras columnas de fecha estan en formato Datetime por \n",
        "lo que ya podemos utilizarlas para analisis**"
      ]
    },
    {
      "cell_type": "code",
      "metadata": {
        "colab_type": "code",
        "id": "Xmma3UtC0hRW",
        "colab": {
          "base_uri": "https://localhost:8080/",
          "height": 202
        },
        "outputId": "93bdadd4-0358-4db8-8366-72ffd20b0247"
      },
      "source": [
        "df_time.head(5)"
      ],
      "execution_count": 37,
      "outputs": [
        {
          "output_type": "execute_result",
          "data": {
            "text/html": [
              "<div>\n",
              "<style scoped>\n",
              "    .dataframe tbody tr th:only-of-type {\n",
              "        vertical-align: middle;\n",
              "    }\n",
              "\n",
              "    .dataframe tbody tr th {\n",
              "        vertical-align: top;\n",
              "    }\n",
              "\n",
              "    .dataframe thead th {\n",
              "        text-align: right;\n",
              "    }\n",
              "</style>\n",
              "<table border=\"1\" class=\"dataframe\">\n",
              "  <thead>\n",
              "    <tr style=\"text-align: right;\">\n",
              "      <th></th>\n",
              "      <th>Numero_de_cuenta</th>\n",
              "      <th>Monto_de_apertura</th>\n",
              "      <th>Fecha_Apertura</th>\n",
              "      <th>Cliente</th>\n",
              "      <th>Tipo_de_Instrumento</th>\n",
              "      <th>Monto_transacción</th>\n",
              "      <th>Sucursal_nombre</th>\n",
              "      <th>Tipo_de_Transacción</th>\n",
              "      <th>Operador</th>\n",
              "      <th>Referencia</th>\n",
              "      <th>Fecha Transaccion</th>\n",
              "    </tr>\n",
              "  </thead>\n",
              "  <tbody>\n",
              "    <tr>\n",
              "      <th>0</th>\n",
              "      <td>00MH985399</td>\n",
              "      <td>16046.40</td>\n",
              "      <td>2014-03-06</td>\n",
              "      <td>100540012</td>\n",
              "      <td>Cuenta corriente</td>\n",
              "      <td>2386.56</td>\n",
              "      <td>MIGUEL HIDALGO</td>\n",
              "      <td>DEFE</td>\n",
              "      <td>MH5507</td>\n",
              "      <td>3013311</td>\n",
              "      <td>2015-01-01 09:23:18</td>\n",
              "    </tr>\n",
              "    <tr>\n",
              "      <th>1</th>\n",
              "      <td>00MH985399</td>\n",
              "      <td>16046.40</td>\n",
              "      <td>2014-03-06</td>\n",
              "      <td>100540012</td>\n",
              "      <td>Cuenta corriente</td>\n",
              "      <td>13424.64</td>\n",
              "      <td>MIGUEL HIDALGO</td>\n",
              "      <td>DCHQ</td>\n",
              "      <td>MH5506</td>\n",
              "      <td>3010412</td>\n",
              "      <td>2015-04-22 01:51:35</td>\n",
              "    </tr>\n",
              "    <tr>\n",
              "      <th>2</th>\n",
              "      <td>00MH985399</td>\n",
              "      <td>16046.40</td>\n",
              "      <td>2014-03-06</td>\n",
              "      <td>100540012</td>\n",
              "      <td>Cuenta corriente</td>\n",
              "      <td>235.20</td>\n",
              "      <td>MIGUEL HIDALGO</td>\n",
              "      <td>DEFE</td>\n",
              "      <td>MH5505</td>\n",
              "      <td>3006370</td>\n",
              "      <td>2015-06-16 12:29:25</td>\n",
              "    </tr>\n",
              "    <tr>\n",
              "      <th>3</th>\n",
              "      <td>00CU982321</td>\n",
              "      <td>379072.47</td>\n",
              "      <td>2014-11-24</td>\n",
              "      <td>100540013</td>\n",
              "      <td>Cuenta corriente</td>\n",
              "      <td>221932.08</td>\n",
              "      <td>CUAUHTEMOC</td>\n",
              "      <td>DCHQ</td>\n",
              "      <td>CU5021</td>\n",
              "      <td>3062323</td>\n",
              "      <td>2015-07-01 10:13:31</td>\n",
              "    </tr>\n",
              "    <tr>\n",
              "      <th>4</th>\n",
              "      <td>00CU982321</td>\n",
              "      <td>379072.47</td>\n",
              "      <td>2014-11-24</td>\n",
              "      <td>100540013</td>\n",
              "      <td>Cuenta corriente</td>\n",
              "      <td>4943.90</td>\n",
              "      <td>CUAUHTEMOC</td>\n",
              "      <td>DEFE</td>\n",
              "      <td>CU5034</td>\n",
              "      <td>3059068</td>\n",
              "      <td>2015-06-26 05:03:03</td>\n",
              "    </tr>\n",
              "  </tbody>\n",
              "</table>\n",
              "</div>"
            ],
            "text/plain": [
              "  Numero_de_cuenta  Monto_de_apertura  ... Referencia   Fecha Transaccion\n",
              "0       00MH985399           16046.40  ...    3013311 2015-01-01 09:23:18\n",
              "1       00MH985399           16046.40  ...    3010412 2015-04-22 01:51:35\n",
              "2       00MH985399           16046.40  ...    3006370 2015-06-16 12:29:25\n",
              "3       00CU982321          379072.47  ...    3062323 2015-07-01 10:13:31\n",
              "4       00CU982321          379072.47  ...    3059068 2015-06-26 05:03:03\n",
              "\n",
              "[5 rows x 11 columns]"
            ]
          },
          "metadata": {
            "tags": []
          },
          "execution_count": 37
        }
      ]
    },
    {
      "cell_type": "markdown",
      "metadata": {
        "id": "i6PbqDV90sIm",
        "colab_type": "text"
      },
      "source": [
        "Volvemos a crear variables dummies en nuestro nuevo DS"
      ]
    },
    {
      "cell_type": "code",
      "metadata": {
        "colab_type": "code",
        "id": "BaJs4gLJ0-Tq",
        "colab": {}
      },
      "source": [
        "cols_to_transform = [ 'Tipo_de_Instrumento',  'Tipo_de_Transacción', ]\n",
        "df_time_wdummies = pd.get_dummies(df_time,columns = cols_to_transform )"
      ],
      "execution_count": 0,
      "outputs": []
    },
    {
      "cell_type": "code",
      "metadata": {
        "colab_type": "code",
        "id": "cctzRz4I1M8c",
        "colab": {
          "base_uri": "https://localhost:8080/",
          "height": 326
        },
        "outputId": "4a4c7d37-2ae6-4bd1-f821-ded88d9b3592"
      },
      "source": [
        "df_time_wdummies.head(5)"
      ],
      "execution_count": 68,
      "outputs": [
        {
          "output_type": "execute_result",
          "data": {
            "text/html": [
              "<div>\n",
              "<style scoped>\n",
              "    .dataframe tbody tr th:only-of-type {\n",
              "        vertical-align: middle;\n",
              "    }\n",
              "\n",
              "    .dataframe tbody tr th {\n",
              "        vertical-align: top;\n",
              "    }\n",
              "\n",
              "    .dataframe thead th {\n",
              "        text-align: right;\n",
              "    }\n",
              "</style>\n",
              "<table border=\"1\" class=\"dataframe\">\n",
              "  <thead>\n",
              "    <tr style=\"text-align: right;\">\n",
              "      <th></th>\n",
              "      <th>Numero_de_cuenta</th>\n",
              "      <th>Monto_de_apertura</th>\n",
              "      <th>Fecha_Apertura</th>\n",
              "      <th>Cliente</th>\n",
              "      <th>Monto_transacción</th>\n",
              "      <th>Sucursal_nombre</th>\n",
              "      <th>Operador</th>\n",
              "      <th>Referencia</th>\n",
              "      <th>Fecha Transaccion</th>\n",
              "      <th>Tipo_de_Instrumento_Cuenta corriente</th>\n",
              "      <th>Tipo_de_Instrumento_Cuenta de ahorro</th>\n",
              "      <th>Tipo_de_Transacción_DCHQ</th>\n",
              "      <th>Tipo_de_Transacción_DEFE</th>\n",
              "      <th>Tipo_de_Transacción_RECJ</th>\n",
              "      <th>Tipo_de_Transacción_REVN</th>\n",
              "    </tr>\n",
              "  </thead>\n",
              "  <tbody>\n",
              "    <tr>\n",
              "      <th>0</th>\n",
              "      <td>00MH985399</td>\n",
              "      <td>16046.40</td>\n",
              "      <td>2014-03-06</td>\n",
              "      <td>100540012</td>\n",
              "      <td>2386.56</td>\n",
              "      <td>MIGUEL HIDALGO</td>\n",
              "      <td>MH5507</td>\n",
              "      <td>3013311</td>\n",
              "      <td>2015-01-01 09:23:18</td>\n",
              "      <td>1</td>\n",
              "      <td>0</td>\n",
              "      <td>0</td>\n",
              "      <td>1</td>\n",
              "      <td>0</td>\n",
              "      <td>0</td>\n",
              "    </tr>\n",
              "    <tr>\n",
              "      <th>1</th>\n",
              "      <td>00MH985399</td>\n",
              "      <td>16046.40</td>\n",
              "      <td>2014-03-06</td>\n",
              "      <td>100540012</td>\n",
              "      <td>13424.64</td>\n",
              "      <td>MIGUEL HIDALGO</td>\n",
              "      <td>MH5506</td>\n",
              "      <td>3010412</td>\n",
              "      <td>2015-04-22 01:51:35</td>\n",
              "      <td>1</td>\n",
              "      <td>0</td>\n",
              "      <td>1</td>\n",
              "      <td>0</td>\n",
              "      <td>0</td>\n",
              "      <td>0</td>\n",
              "    </tr>\n",
              "    <tr>\n",
              "      <th>2</th>\n",
              "      <td>00MH985399</td>\n",
              "      <td>16046.40</td>\n",
              "      <td>2014-03-06</td>\n",
              "      <td>100540012</td>\n",
              "      <td>235.20</td>\n",
              "      <td>MIGUEL HIDALGO</td>\n",
              "      <td>MH5505</td>\n",
              "      <td>3006370</td>\n",
              "      <td>2015-06-16 12:29:25</td>\n",
              "      <td>1</td>\n",
              "      <td>0</td>\n",
              "      <td>0</td>\n",
              "      <td>1</td>\n",
              "      <td>0</td>\n",
              "      <td>0</td>\n",
              "    </tr>\n",
              "    <tr>\n",
              "      <th>3</th>\n",
              "      <td>00CU982321</td>\n",
              "      <td>379072.47</td>\n",
              "      <td>2014-11-24</td>\n",
              "      <td>100540013</td>\n",
              "      <td>221932.08</td>\n",
              "      <td>CUAUHTEMOC</td>\n",
              "      <td>CU5021</td>\n",
              "      <td>3062323</td>\n",
              "      <td>2015-07-01 10:13:31</td>\n",
              "      <td>1</td>\n",
              "      <td>0</td>\n",
              "      <td>1</td>\n",
              "      <td>0</td>\n",
              "      <td>0</td>\n",
              "      <td>0</td>\n",
              "    </tr>\n",
              "    <tr>\n",
              "      <th>4</th>\n",
              "      <td>00CU982321</td>\n",
              "      <td>379072.47</td>\n",
              "      <td>2014-11-24</td>\n",
              "      <td>100540013</td>\n",
              "      <td>4943.90</td>\n",
              "      <td>CUAUHTEMOC</td>\n",
              "      <td>CU5034</td>\n",
              "      <td>3059068</td>\n",
              "      <td>2015-06-26 05:03:03</td>\n",
              "      <td>1</td>\n",
              "      <td>0</td>\n",
              "      <td>0</td>\n",
              "      <td>1</td>\n",
              "      <td>0</td>\n",
              "      <td>0</td>\n",
              "    </tr>\n",
              "  </tbody>\n",
              "</table>\n",
              "</div>"
            ],
            "text/plain": [
              "  Numero_de_cuenta  ...  Tipo_de_Transacción_REVN\n",
              "0       00MH985399  ...                         0\n",
              "1       00MH985399  ...                         0\n",
              "2       00MH985399  ...                         0\n",
              "3       00CU982321  ...                         0\n",
              "4       00CU982321  ...                         0\n",
              "\n",
              "[5 rows x 15 columns]"
            ]
          },
          "metadata": {
            "tags": []
          },
          "execution_count": 68
        }
      ]
    },
    {
      "cell_type": "markdown",
      "metadata": {
        "id": "LNkRx1w81Bsa",
        "colab_type": "text"
      },
      "source": [
        "# Validacion\n",
        "\n",
        "Podemos observar que nuestras variables dummies son \n",
        "de tipo uint8 por lo que el uso de memoria se redujo,\n",
        "también podemos observar que no hay valores\n",
        "NA en nuestro dataset"
      ]
    },
    {
      "cell_type": "code",
      "metadata": {
        "colab_type": "code",
        "id": "g98I1EAn1O_M",
        "colab": {
          "base_uri": "https://localhost:8080/",
          "height": 364
        },
        "outputId": "6bd10d19-c098-4e83-e693-58917996bc3d"
      },
      "source": [
        "df_time_wdummies.info()"
      ],
      "execution_count": 40,
      "outputs": [
        {
          "output_type": "stream",
          "text": [
            "<class 'pandas.core.frame.DataFrame'>\n",
            "Int64Index: 65518 entries, 0 to 65517\n",
            "Data columns (total 15 columns):\n",
            "Numero_de_cuenta                        65518 non-null object\n",
            "Monto_de_apertura                       65518 non-null float64\n",
            "Fecha_Apertura                          65518 non-null datetime64[ns]\n",
            "Cliente                                 65518 non-null int64\n",
            "Monto_transacción                       65518 non-null float64\n",
            "Sucursal_nombre                         65518 non-null object\n",
            "Operador                                65518 non-null object\n",
            "Referencia                              65518 non-null int64\n",
            "Fecha Transaccion                       65518 non-null datetime64[ns]\n",
            "Tipo_de_Instrumento_Cuenta corriente    65518 non-null uint8\n",
            "Tipo_de_Instrumento_Cuenta de ahorro    65518 non-null uint8\n",
            "Tipo_de_Transacción_DCHQ                65518 non-null uint8\n",
            "Tipo_de_Transacción_DEFE                65518 non-null uint8\n",
            "Tipo_de_Transacción_RECJ                65518 non-null uint8\n",
            "Tipo_de_Transacción_REVN                65518 non-null uint8\n",
            "dtypes: datetime64[ns](2), float64(2), int64(2), object(3), uint8(6)\n",
            "memory usage: 5.4+ MB\n"
          ],
          "name": "stdout"
        }
      ]
    },
    {
      "cell_type": "code",
      "metadata": {
        "colab_type": "code",
        "id": "MmiuMa3l1lzo",
        "colab": {
          "base_uri": "https://localhost:8080/",
          "height": 294
        },
        "outputId": "05cf4821-f0b7-4253-e535-7e2d2e57a800"
      },
      "source": [
        "df_time_wdummies.isnull().any()"
      ],
      "execution_count": 41,
      "outputs": [
        {
          "output_type": "execute_result",
          "data": {
            "text/plain": [
              "Numero_de_cuenta                        False\n",
              "Monto_de_apertura                       False\n",
              "Fecha_Apertura                          False\n",
              "Cliente                                 False\n",
              "Monto_transacción                       False\n",
              "Sucursal_nombre                         False\n",
              "Operador                                False\n",
              "Referencia                              False\n",
              "Fecha Transaccion                       False\n",
              "Tipo_de_Instrumento_Cuenta corriente    False\n",
              "Tipo_de_Instrumento_Cuenta de ahorro    False\n",
              "Tipo_de_Transacción_DCHQ                False\n",
              "Tipo_de_Transacción_DEFE                False\n",
              "Tipo_de_Transacción_RECJ                False\n",
              "Tipo_de_Transacción_REVN                False\n",
              "dtype: bool"
            ]
          },
          "metadata": {
            "tags": []
          },
          "execution_count": 41
        }
      ]
    },
    {
      "cell_type": "markdown",
      "metadata": {
        "id": "X7dK3_Qs1Rk5",
        "colab_type": "text"
      },
      "source": [
        "# Analisis de Transacciones\n",
        "\n",
        "**Realizamos operaciones para \n",
        "determinar el monto promedio por instrumento\n",
        "y por tipo de Transaccion**\n"
      ]
    },
    {
      "cell_type": "code",
      "metadata": {
        "colab_type": "code",
        "id": "qP7X5D_b2-Po",
        "colab": {}
      },
      "source": [
        "cuenta_corriente = df_time_wdummies['Tipo_de_Instrumento_Cuenta corriente'].mean()\n",
        "cuenta_de_ahorro = df_time_wdummies['Tipo_de_Instrumento_Cuenta de ahorro'].mean()\n",
        "deposito_cheques = df_time_wdummies['Tipo_de_Transacción_DCHQ'].mean()\n",
        "deposito_efectivo = df_time_wdummies['Tipo_de_Transacción_DEFE'].mean()\n",
        "retiro_cajero = df_time_wdummies['Tipo_de_Transacción_RECJ'].mean()\n",
        "retiro_ventanilla = df_time_wdummies['Tipo_de_Transacción_REVN'].mean()"
      ],
      "execution_count": 0,
      "outputs": []
    },
    {
      "cell_type": "code",
      "metadata": {
        "colab_type": "code",
        "id": "yyMNgPIq4V_a",
        "colab": {
          "base_uri": "https://localhost:8080/",
          "height": 284
        },
        "outputId": "1d070f46-fd89-4a3c-b883-a0ad79bc25d5"
      },
      "source": [
        "df_instrumentos = pd.DataFrame({'Instrumentos':['cuenta_corriente', 'cuenta_de_ahorro'], 'Monto Promedio':[cuenta_corriente, cuenta_de_ahorro]})\n",
        "ax = df_instrumentos.plot.bar(x='Instrumentos', y='Monto Promedio', rot=0)"
      ],
      "execution_count": 67,
      "outputs": [
        {
          "output_type": "display_data",
          "data": {
            "image/png": "[encoded data removed]",
            "text/plain": [
              "<Figure size 432x288 with 1 Axes>"
            ]
          },
          "metadata": {
            "tags": []
          }
        }
      ]
    },
    {
      "cell_type": "code",
      "metadata": {
        "colab_type": "code",
        "id": "7n-UDJGg5LYI",
        "colab": {
          "base_uri": "https://localhost:8080/",
          "height": 284
        },
        "outputId": "a8b1619b-c3bf-4d93-c762-88dc296a57d2"
      },
      "source": [
        "df_mvt = pd.DataFrame({'Movimientos':['dep cheques', 'dep efectivo','ret cajero','ret ventanilla'], 'Monto Promedio':[deposito_cheques,deposito_efectivo,retiro_cajero,retiro_ventanilla]})\n",
        "ax = df_mvt.plot.bar(x='Movimientos', y='Monto Promedio', rot=0)"
      ],
      "execution_count": 66,
      "outputs": [
        {
          "output_type": "display_data",
          "data": {
            "image/png": "[encoded data removed]",
            "text/plain": [
              "<Figure size 432x288 with 1 Axes>"
            ]
          },
          "metadata": {
            "tags": []
          }
        }
      ]
    },
    {
      "cell_type": "code",
      "metadata": {
        "id": "NK6s5gjkpeBj",
        "colab_type": "code",
        "colab": {}
      },
      "source": [
        "df = df_time_wdummies"
      ],
      "execution_count": 0,
      "outputs": []
    },
    {
      "cell_type": "markdown",
      "metadata": {
        "id": "Ckymhlh13alg",
        "colab_type": "text"
      },
      "source": [
        "# Eliminamos Variables que no son relevantes o que son redundantes"
      ]
    },
    {
      "cell_type": "code",
      "metadata": {
        "id": "QIvycZD_peBm",
        "colab_type": "code",
        "colab": {}
      },
      "source": [
        "df = df.drop(columns='Cliente')"
      ],
      "execution_count": 0,
      "outputs": []
    },
    {
      "cell_type": "code",
      "metadata": {
        "id": "lruiNY6qpeBq",
        "colab_type": "code",
        "colab": {}
      },
      "source": [
        "df = df.drop(columns='Operador')"
      ],
      "execution_count": 0,
      "outputs": []
    },
    {
      "cell_type": "code",
      "metadata": {
        "id": "JxIoPCpZpeBw",
        "colab_type": "code",
        "colab": {}
      },
      "source": [
        "df = df.drop(columns='Referencia')"
      ],
      "execution_count": 0,
      "outputs": []
    },
    {
      "cell_type": "markdown",
      "metadata": {
        "id": "q_XfReCO3jnN",
        "colab_type": "text"
      },
      "source": [
        "# Transformamos la columna de Sucursal (categorica) en Dummies para poder realizar análisis con la variable"
      ]
    },
    {
      "cell_type": "code",
      "metadata": {
        "id": "X71kTPKvpeBz",
        "colab_type": "code",
        "colab": {
          "base_uri": "https://localhost:8080/",
          "height": 329
        },
        "outputId": "c7a85503-3d13-4e18-d0ad-2f1aa7f1bbfc"
      },
      "source": [
        "cols_to_transform = [ 'Sucursal_nombre' ]\n",
        "df = pd.get_dummies(df,columns = cols_to_transform )"
      ],
      "execution_count": 74,
      "outputs": [
        {
          "output_type": "error",
          "ename": "KeyError",
          "evalue": "ignored",
          "traceback": [
            "\u001b[0;31m---------------------------------------------------------------------------\u001b[0m",
            "\u001b[0;31mKeyError\u001b[0m                                  Traceback (most recent call last)",
            "\u001b[0;32m<ipython-input-74-9ed81f26008c>\u001b[0m in \u001b[0;36m<module>\u001b[0;34m()\u001b[0m\n\u001b[1;32m      1\u001b[0m \u001b[0mcols_to_transform\u001b[0m \u001b[0;34m=\u001b[0m \u001b[0;34m[\u001b[0m \u001b[0;34m'Sucursal_nombre'\u001b[0m \u001b[0;34m]\u001b[0m\u001b[0;34m\u001b[0m\u001b[0;34m\u001b[0m\u001b[0m\n\u001b[0;32m----> 2\u001b[0;31m \u001b[0mdf\u001b[0m \u001b[0;34m=\u001b[0m \u001b[0mpd\u001b[0m\u001b[0;34m.\u001b[0m\u001b[0mget_dummies\u001b[0m\u001b[0;34m(\u001b[0m\u001b[0mdf\u001b[0m\u001b[0;34m,\u001b[0m\u001b[0mcolumns\u001b[0m \u001b[0;34m=\u001b[0m \u001b[0mcols_to_transform\u001b[0m \u001b[0;34m)\u001b[0m\u001b[0;34m\u001b[0m\u001b[0;34m\u001b[0m\u001b[0m\n\u001b[0m",
            "\u001b[0;32m/usr/local/lib/python3.6/dist-packages/pandas/core/reshape/reshape.py\u001b[0m in \u001b[0;36mget_dummies\u001b[0;34m(data, prefix, prefix_sep, dummy_na, columns, sparse, drop_first, dtype)\u001b[0m\n\u001b[1;32m    810\u001b[0m                 include=dtypes_to_encode)\n\u001b[1;32m    811\u001b[0m         \u001b[0;32melse\u001b[0m\u001b[0;34m:\u001b[0m\u001b[0;34m\u001b[0m\u001b[0;34m\u001b[0m\u001b[0m\n\u001b[0;32m--> 812\u001b[0;31m             \u001b[0mdata_to_encode\u001b[0m \u001b[0;34m=\u001b[0m \u001b[0mdata\u001b[0m\u001b[0;34m[\u001b[0m\u001b[0mcolumns\u001b[0m\u001b[0;34m]\u001b[0m\u001b[0;34m\u001b[0m\u001b[0;34m\u001b[0m\u001b[0m\n\u001b[0m\u001b[1;32m    813\u001b[0m \u001b[0;34m\u001b[0m\u001b[0m\n\u001b[1;32m    814\u001b[0m         \u001b[0;31m# validate prefixes and separator to avoid silently dropping cols\u001b[0m\u001b[0;34m\u001b[0m\u001b[0;34m\u001b[0m\u001b[0;34m\u001b[0m\u001b[0m\n",
            "\u001b[0;32m/usr/local/lib/python3.6/dist-packages/pandas/core/frame.py\u001b[0m in \u001b[0;36m__getitem__\u001b[0;34m(self, key)\u001b[0m\n\u001b[1;32m   2932\u001b[0m                 \u001b[0mkey\u001b[0m \u001b[0;34m=\u001b[0m \u001b[0mlist\u001b[0m\u001b[0;34m(\u001b[0m\u001b[0mkey\u001b[0m\u001b[0;34m)\u001b[0m\u001b[0;34m\u001b[0m\u001b[0;34m\u001b[0m\u001b[0m\n\u001b[1;32m   2933\u001b[0m             indexer = self.loc._convert_to_indexer(key, axis=1,\n\u001b[0;32m-> 2934\u001b[0;31m                                                    raise_missing=True)\n\u001b[0m\u001b[1;32m   2935\u001b[0m \u001b[0;34m\u001b[0m\u001b[0m\n\u001b[1;32m   2936\u001b[0m         \u001b[0;31m# take() does not accept boolean indexers\u001b[0m\u001b[0;34m\u001b[0m\u001b[0;34m\u001b[0m\u001b[0;34m\u001b[0m\u001b[0m\n",
            "\u001b[0;32m/usr/local/lib/python3.6/dist-packages/pandas/core/indexing.py\u001b[0m in \u001b[0;36m_convert_to_indexer\u001b[0;34m(self, obj, axis, is_setter, raise_missing)\u001b[0m\n\u001b[1;32m   1352\u001b[0m                 kwargs = {'raise_missing': True if is_setter else\n\u001b[1;32m   1353\u001b[0m                           raise_missing}\n\u001b[0;32m-> 1354\u001b[0;31m                 \u001b[0;32mreturn\u001b[0m \u001b[0mself\u001b[0m\u001b[0;34m.\u001b[0m\u001b[0m_get_listlike_indexer\u001b[0m\u001b[0;34m(\u001b[0m\u001b[0mobj\u001b[0m\u001b[0;34m,\u001b[0m \u001b[0maxis\u001b[0m\u001b[0;34m,\u001b[0m \u001b[0;34m**\u001b[0m\u001b[0mkwargs\u001b[0m\u001b[0;34m)\u001b[0m\u001b[0;34m[\u001b[0m\u001b[0;36m1\u001b[0m\u001b[0;34m]\u001b[0m\u001b[0;34m\u001b[0m\u001b[0;34m\u001b[0m\u001b[0m\n\u001b[0m\u001b[1;32m   1355\u001b[0m         \u001b[0;32melse\u001b[0m\u001b[0;34m:\u001b[0m\u001b[0;34m\u001b[0m\u001b[0;34m\u001b[0m\u001b[0m\n\u001b[1;32m   1356\u001b[0m             \u001b[0;32mtry\u001b[0m\u001b[0;34m:\u001b[0m\u001b[0;34m\u001b[0m\u001b[0;34m\u001b[0m\u001b[0m\n",
            "\u001b[0;32m/usr/local/lib/python3.6/dist-packages/pandas/core/indexing.py\u001b[0m in \u001b[0;36m_get_listlike_indexer\u001b[0;34m(self, key, axis, raise_missing)\u001b[0m\n\u001b[1;32m   1159\u001b[0m         self._validate_read_indexer(keyarr, indexer,\n\u001b[1;32m   1160\u001b[0m                                     \u001b[0mo\u001b[0m\u001b[0;34m.\u001b[0m\u001b[0m_get_axis_number\u001b[0m\u001b[0;34m(\u001b[0m\u001b[0maxis\u001b[0m\u001b[0;34m)\u001b[0m\u001b[0;34m,\u001b[0m\u001b[0;34m\u001b[0m\u001b[0;34m\u001b[0m\u001b[0m\n\u001b[0;32m-> 1161\u001b[0;31m                                     raise_missing=raise_missing)\n\u001b[0m\u001b[1;32m   1162\u001b[0m         \u001b[0;32mreturn\u001b[0m \u001b[0mkeyarr\u001b[0m\u001b[0;34m,\u001b[0m \u001b[0mindexer\u001b[0m\u001b[0;34m\u001b[0m\u001b[0;34m\u001b[0m\u001b[0m\n\u001b[1;32m   1163\u001b[0m \u001b[0;34m\u001b[0m\u001b[0m\n",
            "\u001b[0;32m/usr/local/lib/python3.6/dist-packages/pandas/core/indexing.py\u001b[0m in \u001b[0;36m_validate_read_indexer\u001b[0;34m(self, key, indexer, axis, raise_missing)\u001b[0m\n\u001b[1;32m   1244\u001b[0m                 raise KeyError(\n\u001b[1;32m   1245\u001b[0m                     u\"None of [{key}] are in the [{axis}]\".format(\n\u001b[0;32m-> 1246\u001b[0;31m                         key=key, axis=self.obj._get_axis_name(axis)))\n\u001b[0m\u001b[1;32m   1247\u001b[0m \u001b[0;34m\u001b[0m\u001b[0m\n\u001b[1;32m   1248\u001b[0m             \u001b[0;31m# We (temporarily) allow for some missing keys with .loc, except in\u001b[0m\u001b[0;34m\u001b[0m\u001b[0;34m\u001b[0m\u001b[0;34m\u001b[0m\u001b[0m\n",
            "\u001b[0;31mKeyError\u001b[0m: \"None of [Index(['Sucursal_nombre'], dtype='object')] are in the [columns]\""
          ]
        }
      ]
    },
    {
      "cell_type": "code",
      "metadata": {
        "id": "gP8edmVnpeB4",
        "colab_type": "code",
        "colab": {
          "base_uri": "https://localhost:8080/",
          "height": 326
        },
        "outputId": "0215ea56-622c-4ea6-d997-dc6cdd4e5ce2"
      },
      "source": [
        "df.head(5)"
      ],
      "execution_count": 75,
      "outputs": [
        {
          "output_type": "execute_result",
          "data": {
            "text/html": [
              "<div>\n",
              "<style scoped>\n",
              "    .dataframe tbody tr th:only-of-type {\n",
              "        vertical-align: middle;\n",
              "    }\n",
              "\n",
              "    .dataframe tbody tr th {\n",
              "        vertical-align: top;\n",
              "    }\n",
              "\n",
              "    .dataframe thead th {\n",
              "        text-align: right;\n",
              "    }\n",
              "</style>\n",
              "<table border=\"1\" class=\"dataframe\">\n",
              "  <thead>\n",
              "    <tr style=\"text-align: right;\">\n",
              "      <th></th>\n",
              "      <th>Numero_de_cuenta</th>\n",
              "      <th>Monto_de_apertura</th>\n",
              "      <th>Fecha_Apertura</th>\n",
              "      <th>Monto_transacción</th>\n",
              "      <th>Fecha Transaccion</th>\n",
              "      <th>Tipo_de_Instrumento_Cuenta corriente</th>\n",
              "      <th>Tipo_de_Instrumento_Cuenta de ahorro</th>\n",
              "      <th>Tipo_de_Transacción_DCHQ</th>\n",
              "      <th>Tipo_de_Transacción_DEFE</th>\n",
              "      <th>Tipo_de_Transacción_RECJ</th>\n",
              "      <th>Tipo_de_Transacción_REVN</th>\n",
              "      <th>Sucursal_nombre_BENITO JUÁREZ</th>\n",
              "      <th>Sucursal_nombre_COYOACÁN</th>\n",
              "      <th>Sucursal_nombre_CUAUHTEMOC</th>\n",
              "      <th>Sucursal_nombre_FORÁNEAS</th>\n",
              "      <th>Sucursal_nombre_IZTACALCO</th>\n",
              "      <th>Sucursal_nombre_IZTAPALAPA</th>\n",
              "      <th>Sucursal_nombre_MIGUEL HIDALGO</th>\n",
              "    </tr>\n",
              "  </thead>\n",
              "  <tbody>\n",
              "    <tr>\n",
              "      <th>0</th>\n",
              "      <td>00MH985399</td>\n",
              "      <td>16046.40</td>\n",
              "      <td>2014-03-06</td>\n",
              "      <td>2386.56</td>\n",
              "      <td>2015-01-01 09:23:18</td>\n",
              "      <td>1</td>\n",
              "      <td>0</td>\n",
              "      <td>0</td>\n",
              "      <td>1</td>\n",
              "      <td>0</td>\n",
              "      <td>0</td>\n",
              "      <td>0</td>\n",
              "      <td>0</td>\n",
              "      <td>0</td>\n",
              "      <td>0</td>\n",
              "      <td>0</td>\n",
              "      <td>0</td>\n",
              "      <td>1</td>\n",
              "    </tr>\n",
              "    <tr>\n",
              "      <th>1</th>\n",
              "      <td>00MH985399</td>\n",
              "      <td>16046.40</td>\n",
              "      <td>2014-03-06</td>\n",
              "      <td>13424.64</td>\n",
              "      <td>2015-04-22 01:51:35</td>\n",
              "      <td>1</td>\n",
              "      <td>0</td>\n",
              "      <td>1</td>\n",
              "      <td>0</td>\n",
              "      <td>0</td>\n",
              "      <td>0</td>\n",
              "      <td>0</td>\n",
              "      <td>0</td>\n",
              "      <td>0</td>\n",
              "      <td>0</td>\n",
              "      <td>0</td>\n",
              "      <td>0</td>\n",
              "      <td>1</td>\n",
              "    </tr>\n",
              "    <tr>\n",
              "      <th>2</th>\n",
              "      <td>00MH985399</td>\n",
              "      <td>16046.40</td>\n",
              "      <td>2014-03-06</td>\n",
              "      <td>235.20</td>\n",
              "      <td>2015-06-16 12:29:25</td>\n",
              "      <td>1</td>\n",
              "      <td>0</td>\n",
              "      <td>0</td>\n",
              "      <td>1</td>\n",
              "      <td>0</td>\n",
              "      <td>0</td>\n",
              "      <td>0</td>\n",
              "      <td>0</td>\n",
              "      <td>0</td>\n",
              "      <td>0</td>\n",
              "      <td>0</td>\n",
              "      <td>0</td>\n",
              "      <td>1</td>\n",
              "    </tr>\n",
              "    <tr>\n",
              "      <th>3</th>\n",
              "      <td>00CU982321</td>\n",
              "      <td>379072.47</td>\n",
              "      <td>2014-11-24</td>\n",
              "      <td>221932.08</td>\n",
              "      <td>2015-07-01 10:13:31</td>\n",
              "      <td>1</td>\n",
              "      <td>0</td>\n",
              "      <td>1</td>\n",
              "      <td>0</td>\n",
              "      <td>0</td>\n",
              "      <td>0</td>\n",
              "      <td>0</td>\n",
              "      <td>0</td>\n",
              "      <td>1</td>\n",
              "      <td>0</td>\n",
              "      <td>0</td>\n",
              "      <td>0</td>\n",
              "      <td>0</td>\n",
              "    </tr>\n",
              "    <tr>\n",
              "      <th>4</th>\n",
              "      <td>00CU982321</td>\n",
              "      <td>379072.47</td>\n",
              "      <td>2014-11-24</td>\n",
              "      <td>4943.90</td>\n",
              "      <td>2015-06-26 05:03:03</td>\n",
              "      <td>1</td>\n",
              "      <td>0</td>\n",
              "      <td>0</td>\n",
              "      <td>1</td>\n",
              "      <td>0</td>\n",
              "      <td>0</td>\n",
              "      <td>0</td>\n",
              "      <td>0</td>\n",
              "      <td>1</td>\n",
              "      <td>0</td>\n",
              "      <td>0</td>\n",
              "      <td>0</td>\n",
              "      <td>0</td>\n",
              "    </tr>\n",
              "  </tbody>\n",
              "</table>\n",
              "</div>"
            ],
            "text/plain": [
              "  Numero_de_cuenta  ...  Sucursal_nombre_MIGUEL HIDALGO\n",
              "0       00MH985399  ...                               1\n",
              "1       00MH985399  ...                               1\n",
              "2       00MH985399  ...                               1\n",
              "3       00CU982321  ...                               0\n",
              "4       00CU982321  ...                               0\n",
              "\n",
              "[5 rows x 18 columns]"
            ]
          },
          "metadata": {
            "tags": []
          },
          "execution_count": 75
        }
      ]
    },
    {
      "cell_type": "markdown",
      "metadata": {
        "id": "l53zJoSx32aq",
        "colab_type": "text"
      },
      "source": [
        "# Feature Creation\n",
        "\n",
        "**A partir de las variables que tenemos podemos crear nuevas que contengan mas \n",
        "informacion y que nos sean relevantes para entender los datos**"
      ]
    },
    {
      "cell_type": "code",
      "metadata": {
        "id": "cpYipqVnpeB9",
        "colab_type": "code",
        "colab": {}
      },
      "source": [
        "#dias desde que abrieron la cuenta\n",
        "df['dias_desde_apertura'] = df['Fecha Transaccion'] - df['Fecha_Apertura']"
      ],
      "execution_count": 0,
      "outputs": []
    },
    {
      "cell_type": "code",
      "metadata": {
        "id": "g_3DvLi6peB_",
        "colab_type": "code",
        "colab": {}
      },
      "source": [
        "df['dias_desde_apertura'] = df['dias_desde_apertura'].astype('timedelta64[D]')\n"
      ],
      "execution_count": 0,
      "outputs": []
    },
    {
      "cell_type": "markdown",
      "metadata": {
        "id": "l2uuU2-K4rwj",
        "colab_type": "text"
      },
      "source": [
        "***Creamos una variable que indica cuanto tiempo ha pasado desde la última transacción del usuario***"
      ]
    },
    {
      "cell_type": "code",
      "metadata": {
        "id": "z8ppWnJvpeCD",
        "colab_type": "code",
        "colab": {}
      },
      "source": [
        "df['dias_desde_ultima_tx'] = df.sort_values(['Numero_de_cuenta','Fecha Transaccion']).groupby('Numero_de_cuenta')['Fecha Transaccion'].diff()\n",
        "df['dias_desde_ultima_tx'] = df['dias_desde_ultima_tx'].astype('timedelta64[D]')"
      ],
      "execution_count": 0,
      "outputs": []
    },
    {
      "cell_type": "code",
      "metadata": {
        "id": "P402X9grpeCM",
        "colab_type": "code",
        "colab": {
          "base_uri": "https://localhost:8080/",
          "height": 326
        },
        "outputId": "c62b5bb6-aaf1-469b-b35f-022c18c4eab0"
      },
      "source": [
        "df.head(5)"
      ],
      "execution_count": 85,
      "outputs": [
        {
          "output_type": "execute_result",
          "data": {
            "text/html": [
              "<div>\n",
              "<style scoped>\n",
              "    .dataframe tbody tr th:only-of-type {\n",
              "        vertical-align: middle;\n",
              "    }\n",
              "\n",
              "    .dataframe tbody tr th {\n",
              "        vertical-align: top;\n",
              "    }\n",
              "\n",
              "    .dataframe thead th {\n",
              "        text-align: right;\n",
              "    }\n",
              "</style>\n",
              "<table border=\"1\" class=\"dataframe\">\n",
              "  <thead>\n",
              "    <tr style=\"text-align: right;\">\n",
              "      <th></th>\n",
              "      <th>Numero_de_cuenta</th>\n",
              "      <th>Monto_de_apertura</th>\n",
              "      <th>Fecha_Apertura</th>\n",
              "      <th>Monto_transacción</th>\n",
              "      <th>Fecha Transaccion</th>\n",
              "      <th>Tipo_de_Instrumento_Cuenta corriente</th>\n",
              "      <th>Tipo_de_Instrumento_Cuenta de ahorro</th>\n",
              "      <th>Tipo_de_Transacción_DCHQ</th>\n",
              "      <th>Tipo_de_Transacción_DEFE</th>\n",
              "      <th>Tipo_de_Transacción_RECJ</th>\n",
              "      <th>Tipo_de_Transacción_REVN</th>\n",
              "      <th>Sucursal_nombre_BENITO JUÁREZ</th>\n",
              "      <th>Sucursal_nombre_COYOACÁN</th>\n",
              "      <th>Sucursal_nombre_CUAUHTEMOC</th>\n",
              "      <th>Sucursal_nombre_FORÁNEAS</th>\n",
              "      <th>Sucursal_nombre_IZTACALCO</th>\n",
              "      <th>Sucursal_nombre_IZTAPALAPA</th>\n",
              "      <th>Sucursal_nombre_MIGUEL HIDALGO</th>\n",
              "      <th>dias_desde_apertura</th>\n",
              "      <th>dias_desde_ultima_tx</th>\n",
              "    </tr>\n",
              "  </thead>\n",
              "  <tbody>\n",
              "    <tr>\n",
              "      <th>0</th>\n",
              "      <td>00MH985399</td>\n",
              "      <td>16046.40</td>\n",
              "      <td>2014-03-06</td>\n",
              "      <td>2386.56</td>\n",
              "      <td>2015-01-01 09:23:18</td>\n",
              "      <td>1</td>\n",
              "      <td>0</td>\n",
              "      <td>0</td>\n",
              "      <td>1</td>\n",
              "      <td>0</td>\n",
              "      <td>0</td>\n",
              "      <td>0</td>\n",
              "      <td>0</td>\n",
              "      <td>0</td>\n",
              "      <td>0</td>\n",
              "      <td>0</td>\n",
              "      <td>0</td>\n",
              "      <td>1</td>\n",
              "      <td>301.0</td>\n",
              "      <td>0.0</td>\n",
              "    </tr>\n",
              "    <tr>\n",
              "      <th>1</th>\n",
              "      <td>00MH985399</td>\n",
              "      <td>16046.40</td>\n",
              "      <td>2014-03-06</td>\n",
              "      <td>13424.64</td>\n",
              "      <td>2015-04-22 01:51:35</td>\n",
              "      <td>1</td>\n",
              "      <td>0</td>\n",
              "      <td>1</td>\n",
              "      <td>0</td>\n",
              "      <td>0</td>\n",
              "      <td>0</td>\n",
              "      <td>0</td>\n",
              "      <td>0</td>\n",
              "      <td>0</td>\n",
              "      <td>0</td>\n",
              "      <td>0</td>\n",
              "      <td>0</td>\n",
              "      <td>1</td>\n",
              "      <td>412.0</td>\n",
              "      <td>110.0</td>\n",
              "    </tr>\n",
              "    <tr>\n",
              "      <th>2</th>\n",
              "      <td>00MH985399</td>\n",
              "      <td>16046.40</td>\n",
              "      <td>2014-03-06</td>\n",
              "      <td>235.20</td>\n",
              "      <td>2015-06-16 12:29:25</td>\n",
              "      <td>1</td>\n",
              "      <td>0</td>\n",
              "      <td>0</td>\n",
              "      <td>1</td>\n",
              "      <td>0</td>\n",
              "      <td>0</td>\n",
              "      <td>0</td>\n",
              "      <td>0</td>\n",
              "      <td>0</td>\n",
              "      <td>0</td>\n",
              "      <td>0</td>\n",
              "      <td>0</td>\n",
              "      <td>1</td>\n",
              "      <td>467.0</td>\n",
              "      <td>55.0</td>\n",
              "    </tr>\n",
              "    <tr>\n",
              "      <th>3</th>\n",
              "      <td>00CU982321</td>\n",
              "      <td>379072.47</td>\n",
              "      <td>2014-11-24</td>\n",
              "      <td>221932.08</td>\n",
              "      <td>2015-07-01 10:13:31</td>\n",
              "      <td>1</td>\n",
              "      <td>0</td>\n",
              "      <td>1</td>\n",
              "      <td>0</td>\n",
              "      <td>0</td>\n",
              "      <td>0</td>\n",
              "      <td>0</td>\n",
              "      <td>0</td>\n",
              "      <td>1</td>\n",
              "      <td>0</td>\n",
              "      <td>0</td>\n",
              "      <td>0</td>\n",
              "      <td>0</td>\n",
              "      <td>219.0</td>\n",
              "      <td>5.0</td>\n",
              "    </tr>\n",
              "    <tr>\n",
              "      <th>4</th>\n",
              "      <td>00CU982321</td>\n",
              "      <td>379072.47</td>\n",
              "      <td>2014-11-24</td>\n",
              "      <td>4943.90</td>\n",
              "      <td>2015-06-26 05:03:03</td>\n",
              "      <td>1</td>\n",
              "      <td>0</td>\n",
              "      <td>0</td>\n",
              "      <td>1</td>\n",
              "      <td>0</td>\n",
              "      <td>0</td>\n",
              "      <td>0</td>\n",
              "      <td>0</td>\n",
              "      <td>1</td>\n",
              "      <td>0</td>\n",
              "      <td>0</td>\n",
              "      <td>0</td>\n",
              "      <td>0</td>\n",
              "      <td>214.0</td>\n",
              "      <td>4.0</td>\n",
              "    </tr>\n",
              "  </tbody>\n",
              "</table>\n",
              "</div>"
            ],
            "text/plain": [
              "  Numero_de_cuenta  ...  dias_desde_ultima_tx\n",
              "0       00MH985399  ...                   0.0\n",
              "1       00MH985399  ...                 110.0\n",
              "2       00MH985399  ...                  55.0\n",
              "3       00CU982321  ...                   5.0\n",
              "4       00CU982321  ...                   4.0\n",
              "\n",
              "[5 rows x 20 columns]"
            ]
          },
          "metadata": {
            "tags": []
          },
          "execution_count": 85
        }
      ]
    },
    {
      "cell_type": "markdown",
      "metadata": {
        "id": "eGTQhwWt4ZZ4",
        "colab_type": "text"
      },
      "source": [
        "Creamos un df con las variables que no son numericas para poder unirlo mas tarde despues de la normalizacion"
      ]
    },
    {
      "cell_type": "code",
      "metadata": {
        "id": "xFUSGOrKpeCR",
        "colab_type": "code",
        "colab": {}
      },
      "source": [
        "df_cat = df[['Numero_de_cuenta','Fecha_Apertura','Fecha Transaccion']]"
      ],
      "execution_count": 0,
      "outputs": []
    },
    {
      "cell_type": "code",
      "metadata": {
        "id": "WYgRyfmFpeCU",
        "colab_type": "code",
        "colab": {
          "base_uri": "https://localhost:8080/",
          "height": 202
        },
        "outputId": "026052d0-2643-4efa-e253-fe22bc05052c"
      },
      "source": [
        "df_cat.head(5)"
      ],
      "execution_count": 82,
      "outputs": [
        {
          "output_type": "execute_result",
          "data": {
            "text/html": [
              "<div>\n",
              "<style scoped>\n",
              "    .dataframe tbody tr th:only-of-type {\n",
              "        vertical-align: middle;\n",
              "    }\n",
              "\n",
              "    .dataframe tbody tr th {\n",
              "        vertical-align: top;\n",
              "    }\n",
              "\n",
              "    .dataframe thead th {\n",
              "        text-align: right;\n",
              "    }\n",
              "</style>\n",
              "<table border=\"1\" class=\"dataframe\">\n",
              "  <thead>\n",
              "    <tr style=\"text-align: right;\">\n",
              "      <th></th>\n",
              "      <th>Numero_de_cuenta</th>\n",
              "      <th>Fecha_Apertura</th>\n",
              "      <th>Fecha Transaccion</th>\n",
              "    </tr>\n",
              "  </thead>\n",
              "  <tbody>\n",
              "    <tr>\n",
              "      <th>0</th>\n",
              "      <td>00MH985399</td>\n",
              "      <td>2014-03-06</td>\n",
              "      <td>2015-01-01 09:23:18</td>\n",
              "    </tr>\n",
              "    <tr>\n",
              "      <th>1</th>\n",
              "      <td>00MH985399</td>\n",
              "      <td>2014-03-06</td>\n",
              "      <td>2015-04-22 01:51:35</td>\n",
              "    </tr>\n",
              "    <tr>\n",
              "      <th>2</th>\n",
              "      <td>00MH985399</td>\n",
              "      <td>2014-03-06</td>\n",
              "      <td>2015-06-16 12:29:25</td>\n",
              "    </tr>\n",
              "    <tr>\n",
              "      <th>3</th>\n",
              "      <td>00CU982321</td>\n",
              "      <td>2014-11-24</td>\n",
              "      <td>2015-07-01 10:13:31</td>\n",
              "    </tr>\n",
              "    <tr>\n",
              "      <th>4</th>\n",
              "      <td>00CU982321</td>\n",
              "      <td>2014-11-24</td>\n",
              "      <td>2015-06-26 05:03:03</td>\n",
              "    </tr>\n",
              "  </tbody>\n",
              "</table>\n",
              "</div>"
            ],
            "text/plain": [
              "  Numero_de_cuenta Fecha_Apertura   Fecha Transaccion\n",
              "0       00MH985399     2014-03-06 2015-01-01 09:23:18\n",
              "1       00MH985399     2014-03-06 2015-04-22 01:51:35\n",
              "2       00MH985399     2014-03-06 2015-06-16 12:29:25\n",
              "3       00CU982321     2014-11-24 2015-07-01 10:13:31\n",
              "4       00CU982321     2014-11-24 2015-06-26 05:03:03"
            ]
          },
          "metadata": {
            "tags": []
          },
          "execution_count": 82
        }
      ]
    },
    {
      "cell_type": "code",
      "metadata": {
        "id": "G6tk2knKpeCZ",
        "colab_type": "code",
        "colab": {}
      },
      "source": [
        "df = df.fillna(0)"
      ],
      "execution_count": 0,
      "outputs": []
    },
    {
      "cell_type": "markdown",
      "metadata": {
        "id": "995St338436I",
        "colab_type": "text"
      },
      "source": [
        "reemplazamos los NA por 0"
      ]
    },
    {
      "cell_type": "code",
      "metadata": {
        "scrolled": false,
        "id": "nQW2yyGHpeCc",
        "colab_type": "code",
        "colab": {
          "base_uri": "https://localhost:8080/",
          "height": 326
        },
        "outputId": "d08c3da5-2cc3-44aa-b48a-7fb99a970008"
      },
      "source": [
        "df.head(5)"
      ],
      "execution_count": 86,
      "outputs": [
        {
          "output_type": "execute_result",
          "data": {
            "text/html": [
              "<div>\n",
              "<style scoped>\n",
              "    .dataframe tbody tr th:only-of-type {\n",
              "        vertical-align: middle;\n",
              "    }\n",
              "\n",
              "    .dataframe tbody tr th {\n",
              "        vertical-align: top;\n",
              "    }\n",
              "\n",
              "    .dataframe thead th {\n",
              "        text-align: right;\n",
              "    }\n",
              "</style>\n",
              "<table border=\"1\" class=\"dataframe\">\n",
              "  <thead>\n",
              "    <tr style=\"text-align: right;\">\n",
              "      <th></th>\n",
              "      <th>Numero_de_cuenta</th>\n",
              "      <th>Monto_de_apertura</th>\n",
              "      <th>Fecha_Apertura</th>\n",
              "      <th>Monto_transacción</th>\n",
              "      <th>Fecha Transaccion</th>\n",
              "      <th>Tipo_de_Instrumento_Cuenta corriente</th>\n",
              "      <th>Tipo_de_Instrumento_Cuenta de ahorro</th>\n",
              "      <th>Tipo_de_Transacción_DCHQ</th>\n",
              "      <th>Tipo_de_Transacción_DEFE</th>\n",
              "      <th>Tipo_de_Transacción_RECJ</th>\n",
              "      <th>Tipo_de_Transacción_REVN</th>\n",
              "      <th>Sucursal_nombre_BENITO JUÁREZ</th>\n",
              "      <th>Sucursal_nombre_COYOACÁN</th>\n",
              "      <th>Sucursal_nombre_CUAUHTEMOC</th>\n",
              "      <th>Sucursal_nombre_FORÁNEAS</th>\n",
              "      <th>Sucursal_nombre_IZTACALCO</th>\n",
              "      <th>Sucursal_nombre_IZTAPALAPA</th>\n",
              "      <th>Sucursal_nombre_MIGUEL HIDALGO</th>\n",
              "      <th>dias_desde_apertura</th>\n",
              "      <th>dias_desde_ultima_tx</th>\n",
              "    </tr>\n",
              "  </thead>\n",
              "  <tbody>\n",
              "    <tr>\n",
              "      <th>0</th>\n",
              "      <td>00MH985399</td>\n",
              "      <td>16046.40</td>\n",
              "      <td>2014-03-06</td>\n",
              "      <td>2386.56</td>\n",
              "      <td>2015-01-01 09:23:18</td>\n",
              "      <td>1</td>\n",
              "      <td>0</td>\n",
              "      <td>0</td>\n",
              "      <td>1</td>\n",
              "      <td>0</td>\n",
              "      <td>0</td>\n",
              "      <td>0</td>\n",
              "      <td>0</td>\n",
              "      <td>0</td>\n",
              "      <td>0</td>\n",
              "      <td>0</td>\n",
              "      <td>0</td>\n",
              "      <td>1</td>\n",
              "      <td>301.0</td>\n",
              "      <td>0.0</td>\n",
              "    </tr>\n",
              "    <tr>\n",
              "      <th>1</th>\n",
              "      <td>00MH985399</td>\n",
              "      <td>16046.40</td>\n",
              "      <td>2014-03-06</td>\n",
              "      <td>13424.64</td>\n",
              "      <td>2015-04-22 01:51:35</td>\n",
              "      <td>1</td>\n",
              "      <td>0</td>\n",
              "      <td>1</td>\n",
              "      <td>0</td>\n",
              "      <td>0</td>\n",
              "      <td>0</td>\n",
              "      <td>0</td>\n",
              "      <td>0</td>\n",
              "      <td>0</td>\n",
              "      <td>0</td>\n",
              "      <td>0</td>\n",
              "      <td>0</td>\n",
              "      <td>1</td>\n",
              "      <td>412.0</td>\n",
              "      <td>110.0</td>\n",
              "    </tr>\n",
              "    <tr>\n",
              "      <th>2</th>\n",
              "      <td>00MH985399</td>\n",
              "      <td>16046.40</td>\n",
              "      <td>2014-03-06</td>\n",
              "      <td>235.20</td>\n",
              "      <td>2015-06-16 12:29:25</td>\n",
              "      <td>1</td>\n",
              "      <td>0</td>\n",
              "      <td>0</td>\n",
              "      <td>1</td>\n",
              "      <td>0</td>\n",
              "      <td>0</td>\n",
              "      <td>0</td>\n",
              "      <td>0</td>\n",
              "      <td>0</td>\n",
              "      <td>0</td>\n",
              "      <td>0</td>\n",
              "      <td>0</td>\n",
              "      <td>1</td>\n",
              "      <td>467.0</td>\n",
              "      <td>55.0</td>\n",
              "    </tr>\n",
              "    <tr>\n",
              "      <th>3</th>\n",
              "      <td>00CU982321</td>\n",
              "      <td>379072.47</td>\n",
              "      <td>2014-11-24</td>\n",
              "      <td>221932.08</td>\n",
              "      <td>2015-07-01 10:13:31</td>\n",
              "      <td>1</td>\n",
              "      <td>0</td>\n",
              "      <td>1</td>\n",
              "      <td>0</td>\n",
              "      <td>0</td>\n",
              "      <td>0</td>\n",
              "      <td>0</td>\n",
              "      <td>0</td>\n",
              "      <td>1</td>\n",
              "      <td>0</td>\n",
              "      <td>0</td>\n",
              "      <td>0</td>\n",
              "      <td>0</td>\n",
              "      <td>219.0</td>\n",
              "      <td>5.0</td>\n",
              "    </tr>\n",
              "    <tr>\n",
              "      <th>4</th>\n",
              "      <td>00CU982321</td>\n",
              "      <td>379072.47</td>\n",
              "      <td>2014-11-24</td>\n",
              "      <td>4943.90</td>\n",
              "      <td>2015-06-26 05:03:03</td>\n",
              "      <td>1</td>\n",
              "      <td>0</td>\n",
              "      <td>0</td>\n",
              "      <td>1</td>\n",
              "      <td>0</td>\n",
              "      <td>0</td>\n",
              "      <td>0</td>\n",
              "      <td>0</td>\n",
              "      <td>1</td>\n",
              "      <td>0</td>\n",
              "      <td>0</td>\n",
              "      <td>0</td>\n",
              "      <td>0</td>\n",
              "      <td>214.0</td>\n",
              "      <td>4.0</td>\n",
              "    </tr>\n",
              "  </tbody>\n",
              "</table>\n",
              "</div>"
            ],
            "text/plain": [
              "  Numero_de_cuenta  ...  dias_desde_ultima_tx\n",
              "0       00MH985399  ...                   0.0\n",
              "1       00MH985399  ...                 110.0\n",
              "2       00MH985399  ...                  55.0\n",
              "3       00CU982321  ...                   5.0\n",
              "4       00CU982321  ...                   4.0\n",
              "\n",
              "[5 rows x 20 columns]"
            ]
          },
          "metadata": {
            "tags": []
          },
          "execution_count": 86
        }
      ]
    },
    {
      "cell_type": "markdown",
      "metadata": {
        "id": "lKDbMrlf5Bju",
        "colab_type": "text"
      },
      "source": [
        "# Feature Creation\n",
        "\n",
        "Creamos variables que indican el numero total de transacciones por tipo de instrumento para cada usuario."
      ]
    },
    {
      "cell_type": "code",
      "metadata": {
        "id": "xXYpn-0gpeCi",
        "colab_type": "code",
        "colab": {}
      },
      "source": [
        "cta_cc = df.groupby(['Numero_de_cuenta'])['Tipo_de_Instrumento_Cuenta corriente'].agg('sum')"
      ],
      "execution_count": 0,
      "outputs": []
    },
    {
      "cell_type": "code",
      "metadata": {
        "id": "JK7nbSh3peCk",
        "colab_type": "code",
        "colab": {}
      },
      "source": [
        "cta_ah = df.groupby(['Numero_de_cuenta'])['Tipo_de_Instrumento_Cuenta de ahorro'].agg('sum')"
      ],
      "execution_count": 0,
      "outputs": []
    },
    {
      "cell_type": "code",
      "metadata": {
        "id": "I176tzVfpeCo",
        "colab_type": "code",
        "colab": {}
      },
      "source": [
        "df['cta c tot'] = df['Numero_de_cuenta'].map(cta_cc)"
      ],
      "execution_count": 0,
      "outputs": []
    },
    {
      "cell_type": "code",
      "metadata": {
        "id": "hby8AlXIpeCq",
        "colab_type": "code",
        "colab": {}
      },
      "source": [
        "df['cta_de_ahorro'] = df['Numero_de_cuenta'].map(cta_ah)"
      ],
      "execution_count": 0,
      "outputs": []
    },
    {
      "cell_type": "code",
      "metadata": {
        "id": "KlJATMiMpeCs",
        "colab_type": "code",
        "colab": {
          "base_uri": "https://localhost:8080/",
          "height": 398
        },
        "outputId": "ff46984b-a9d9-49b8-cbde-c647ef62e222"
      },
      "source": [
        "list(df)"
      ],
      "execution_count": 91,
      "outputs": [
        {
          "output_type": "execute_result",
          "data": {
            "text/plain": [
              "['Numero_de_cuenta',\n",
              " 'Monto_de_apertura',\n",
              " 'Fecha_Apertura',\n",
              " 'Monto_transacción',\n",
              " 'Fecha Transaccion',\n",
              " 'Tipo_de_Instrumento_Cuenta corriente',\n",
              " 'Tipo_de_Instrumento_Cuenta de ahorro',\n",
              " 'Tipo_de_Transacción_DCHQ',\n",
              " 'Tipo_de_Transacción_DEFE',\n",
              " 'Tipo_de_Transacción_RECJ',\n",
              " 'Tipo_de_Transacción_REVN',\n",
              " 'Sucursal_nombre_BENITO JUÁREZ',\n",
              " 'Sucursal_nombre_COYOACÁN',\n",
              " 'Sucursal_nombre_CUAUHTEMOC',\n",
              " 'Sucursal_nombre_FORÁNEAS',\n",
              " 'Sucursal_nombre_IZTACALCO',\n",
              " 'Sucursal_nombre_IZTAPALAPA',\n",
              " 'Sucursal_nombre_MIGUEL HIDALGO',\n",
              " 'dias_desde_apertura',\n",
              " 'dias_desde_ultima_tx',\n",
              " 'cta c tot',\n",
              " 'cta_de_ahorro']"
            ]
          },
          "metadata": {
            "tags": []
          },
          "execution_count": 91
        }
      ]
    },
    {
      "cell_type": "code",
      "metadata": {
        "id": "IzSRv-a7peCw",
        "colab_type": "code",
        "colab": {
          "base_uri": "https://localhost:8080/",
          "height": 344
        },
        "outputId": "ba56d6c9-4f9f-4e6b-cc2a-7fce53e4566d"
      },
      "source": [
        "df.head(5)"
      ],
      "execution_count": 92,
      "outputs": [
        {
          "output_type": "execute_result",
          "data": {
            "text/html": [
              "<div>\n",
              "<style scoped>\n",
              "    .dataframe tbody tr th:only-of-type {\n",
              "        vertical-align: middle;\n",
              "    }\n",
              "\n",
              "    .dataframe tbody tr th {\n",
              "        vertical-align: top;\n",
              "    }\n",
              "\n",
              "    .dataframe thead th {\n",
              "        text-align: right;\n",
              "    }\n",
              "</style>\n",
              "<table border=\"1\" class=\"dataframe\">\n",
              "  <thead>\n",
              "    <tr style=\"text-align: right;\">\n",
              "      <th></th>\n",
              "      <th>Numero_de_cuenta</th>\n",
              "      <th>Monto_de_apertura</th>\n",
              "      <th>Fecha_Apertura</th>\n",
              "      <th>Monto_transacción</th>\n",
              "      <th>Fecha Transaccion</th>\n",
              "      <th>Tipo_de_Instrumento_Cuenta corriente</th>\n",
              "      <th>Tipo_de_Instrumento_Cuenta de ahorro</th>\n",
              "      <th>Tipo_de_Transacción_DCHQ</th>\n",
              "      <th>Tipo_de_Transacción_DEFE</th>\n",
              "      <th>Tipo_de_Transacción_RECJ</th>\n",
              "      <th>Tipo_de_Transacción_REVN</th>\n",
              "      <th>Sucursal_nombre_BENITO JUÁREZ</th>\n",
              "      <th>Sucursal_nombre_COYOACÁN</th>\n",
              "      <th>Sucursal_nombre_CUAUHTEMOC</th>\n",
              "      <th>Sucursal_nombre_FORÁNEAS</th>\n",
              "      <th>Sucursal_nombre_IZTACALCO</th>\n",
              "      <th>Sucursal_nombre_IZTAPALAPA</th>\n",
              "      <th>Sucursal_nombre_MIGUEL HIDALGO</th>\n",
              "      <th>dias_desde_apertura</th>\n",
              "      <th>dias_desde_ultima_tx</th>\n",
              "      <th>cta c tot</th>\n",
              "      <th>cta_de_ahorro</th>\n",
              "    </tr>\n",
              "  </thead>\n",
              "  <tbody>\n",
              "    <tr>\n",
              "      <th>0</th>\n",
              "      <td>00MH985399</td>\n",
              "      <td>16046.40</td>\n",
              "      <td>2014-03-06</td>\n",
              "      <td>2386.56</td>\n",
              "      <td>2015-01-01 09:23:18</td>\n",
              "      <td>1</td>\n",
              "      <td>0</td>\n",
              "      <td>0</td>\n",
              "      <td>1</td>\n",
              "      <td>0</td>\n",
              "      <td>0</td>\n",
              "      <td>0</td>\n",
              "      <td>0</td>\n",
              "      <td>0</td>\n",
              "      <td>0</td>\n",
              "      <td>0</td>\n",
              "      <td>0</td>\n",
              "      <td>1</td>\n",
              "      <td>301.0</td>\n",
              "      <td>0.0</td>\n",
              "      <td>3.0</td>\n",
              "      <td>0.0</td>\n",
              "    </tr>\n",
              "    <tr>\n",
              "      <th>1</th>\n",
              "      <td>00MH985399</td>\n",
              "      <td>16046.40</td>\n",
              "      <td>2014-03-06</td>\n",
              "      <td>13424.64</td>\n",
              "      <td>2015-04-22 01:51:35</td>\n",
              "      <td>1</td>\n",
              "      <td>0</td>\n",
              "      <td>1</td>\n",
              "      <td>0</td>\n",
              "      <td>0</td>\n",
              "      <td>0</td>\n",
              "      <td>0</td>\n",
              "      <td>0</td>\n",
              "      <td>0</td>\n",
              "      <td>0</td>\n",
              "      <td>0</td>\n",
              "      <td>0</td>\n",
              "      <td>1</td>\n",
              "      <td>412.0</td>\n",
              "      <td>110.0</td>\n",
              "      <td>3.0</td>\n",
              "      <td>0.0</td>\n",
              "    </tr>\n",
              "    <tr>\n",
              "      <th>2</th>\n",
              "      <td>00MH985399</td>\n",
              "      <td>16046.40</td>\n",
              "      <td>2014-03-06</td>\n",
              "      <td>235.20</td>\n",
              "      <td>2015-06-16 12:29:25</td>\n",
              "      <td>1</td>\n",
              "      <td>0</td>\n",
              "      <td>0</td>\n",
              "      <td>1</td>\n",
              "      <td>0</td>\n",
              "      <td>0</td>\n",
              "      <td>0</td>\n",
              "      <td>0</td>\n",
              "      <td>0</td>\n",
              "      <td>0</td>\n",
              "      <td>0</td>\n",
              "      <td>0</td>\n",
              "      <td>1</td>\n",
              "      <td>467.0</td>\n",
              "      <td>55.0</td>\n",
              "      <td>3.0</td>\n",
              "      <td>0.0</td>\n",
              "    </tr>\n",
              "    <tr>\n",
              "      <th>3</th>\n",
              "      <td>00CU982321</td>\n",
              "      <td>379072.47</td>\n",
              "      <td>2014-11-24</td>\n",
              "      <td>221932.08</td>\n",
              "      <td>2015-07-01 10:13:31</td>\n",
              "      <td>1</td>\n",
              "      <td>0</td>\n",
              "      <td>1</td>\n",
              "      <td>0</td>\n",
              "      <td>0</td>\n",
              "      <td>0</td>\n",
              "      <td>0</td>\n",
              "      <td>0</td>\n",
              "      <td>1</td>\n",
              "      <td>0</td>\n",
              "      <td>0</td>\n",
              "      <td>0</td>\n",
              "      <td>0</td>\n",
              "      <td>219.0</td>\n",
              "      <td>5.0</td>\n",
              "      <td>13.0</td>\n",
              "      <td>0.0</td>\n",
              "    </tr>\n",
              "    <tr>\n",
              "      <th>4</th>\n",
              "      <td>00CU982321</td>\n",
              "      <td>379072.47</td>\n",
              "      <td>2014-11-24</td>\n",
              "      <td>4943.90</td>\n",
              "      <td>2015-06-26 05:03:03</td>\n",
              "      <td>1</td>\n",
              "      <td>0</td>\n",
              "      <td>0</td>\n",
              "      <td>1</td>\n",
              "      <td>0</td>\n",
              "      <td>0</td>\n",
              "      <td>0</td>\n",
              "      <td>0</td>\n",
              "      <td>1</td>\n",
              "      <td>0</td>\n",
              "      <td>0</td>\n",
              "      <td>0</td>\n",
              "      <td>0</td>\n",
              "      <td>214.0</td>\n",
              "      <td>4.0</td>\n",
              "      <td>13.0</td>\n",
              "      <td>0.0</td>\n",
              "    </tr>\n",
              "  </tbody>\n",
              "</table>\n",
              "</div>"
            ],
            "text/plain": [
              "  Numero_de_cuenta  Monto_de_apertura  ... cta c tot  cta_de_ahorro\n",
              "0       00MH985399           16046.40  ...       3.0            0.0\n",
              "1       00MH985399           16046.40  ...       3.0            0.0\n",
              "2       00MH985399           16046.40  ...       3.0            0.0\n",
              "3       00CU982321          379072.47  ...      13.0            0.0\n",
              "4       00CU982321          379072.47  ...      13.0            0.0\n",
              "\n",
              "[5 rows x 22 columns]"
            ]
          },
          "metadata": {
            "tags": []
          },
          "execution_count": 92
        }
      ]
    },
    {
      "cell_type": "markdown",
      "metadata": {
        "id": "DJr2_wp85Ovg",
        "colab_type": "text"
      },
      "source": [
        "# Feature Creation (cont)\n",
        "\n",
        "Creamos las siguientes variables \n",
        "\n",
        "\n",
        "> Una variable que indica el monto promedio por Transaccion para cada usuario\n",
        "\n",
        "\n",
        "> Una variable que indica la diferencia entre la transaccion actual y el monto promedio por transaccion\n",
        "\n",
        "\n",
        "\n"
      ]
    },
    {
      "cell_type": "code",
      "metadata": {
        "id": "jDDvFOAypeCy",
        "colab_type": "code",
        "colab": {}
      },
      "source": [
        "mean_user = df.groupby(['Numero_de_cuenta'])['Monto_transacción'].mean()\n",
        "df['Promedio_de_Tx_por_usuario'] = df['Numero_de_cuenta'].map(mean_user)"
      ],
      "execution_count": 0,
      "outputs": []
    },
    {
      "cell_type": "code",
      "metadata": {
        "id": "NpxLDAivpeC2",
        "colab_type": "code",
        "colab": {
          "base_uri": "https://localhost:8080/",
          "height": 344
        },
        "outputId": "7006cac1-6bd9-4c9b-b35b-a23b90f25e89"
      },
      "source": [
        "df.head(5)"
      ],
      "execution_count": 99,
      "outputs": [
        {
          "output_type": "execute_result",
          "data": {
            "text/html": [
              "<div>\n",
              "<style scoped>\n",
              "    .dataframe tbody tr th:only-of-type {\n",
              "        vertical-align: middle;\n",
              "    }\n",
              "\n",
              "    .dataframe tbody tr th {\n",
              "        vertical-align: top;\n",
              "    }\n",
              "\n",
              "    .dataframe thead th {\n",
              "        text-align: right;\n",
              "    }\n",
              "</style>\n",
              "<table border=\"1\" class=\"dataframe\">\n",
              "  <thead>\n",
              "    <tr style=\"text-align: right;\">\n",
              "      <th></th>\n",
              "      <th>Numero_de_cuenta</th>\n",
              "      <th>Monto_de_apertura</th>\n",
              "      <th>Fecha_Apertura</th>\n",
              "      <th>Monto_transacción</th>\n",
              "      <th>Fecha Transaccion</th>\n",
              "      <th>Tipo_de_Instrumento_Cuenta corriente</th>\n",
              "      <th>Tipo_de_Instrumento_Cuenta de ahorro</th>\n",
              "      <th>Tipo_de_Transacción_DCHQ</th>\n",
              "      <th>Tipo_de_Transacción_DEFE</th>\n",
              "      <th>Tipo_de_Transacción_RECJ</th>\n",
              "      <th>Tipo_de_Transacción_REVN</th>\n",
              "      <th>Sucursal_nombre_BENITO JUÁREZ</th>\n",
              "      <th>Sucursal_nombre_COYOACÁN</th>\n",
              "      <th>Sucursal_nombre_CUAUHTEMOC</th>\n",
              "      <th>Sucursal_nombre_FORÁNEAS</th>\n",
              "      <th>Sucursal_nombre_IZTACALCO</th>\n",
              "      <th>Sucursal_nombre_IZTAPALAPA</th>\n",
              "      <th>Sucursal_nombre_MIGUEL HIDALGO</th>\n",
              "      <th>dias_desde_apertura</th>\n",
              "      <th>dias_desde_ultima_tx</th>\n",
              "      <th>cta c tot</th>\n",
              "      <th>cta_de_ahorro</th>\n",
              "      <th>Promedio_de_Tx_por_usuario</th>\n",
              "      <th>diff con tx promedio</th>\n",
              "    </tr>\n",
              "  </thead>\n",
              "  <tbody>\n",
              "    <tr>\n",
              "      <th>0</th>\n",
              "      <td>00MH985399</td>\n",
              "      <td>16046.40</td>\n",
              "      <td>2014-03-06</td>\n",
              "      <td>2386.56</td>\n",
              "      <td>2015-01-01 09:23:18</td>\n",
              "      <td>1</td>\n",
              "      <td>0</td>\n",
              "      <td>0</td>\n",
              "      <td>1</td>\n",
              "      <td>0</td>\n",
              "      <td>0</td>\n",
              "      <td>0</td>\n",
              "      <td>0</td>\n",
              "      <td>0</td>\n",
              "      <td>0</td>\n",
              "      <td>0</td>\n",
              "      <td>0</td>\n",
              "      <td>1</td>\n",
              "      <td>301.0</td>\n",
              "      <td>0.0</td>\n",
              "      <td>3.0</td>\n",
              "      <td>0.0</td>\n",
              "      <td>5348.800000</td>\n",
              "      <td>-2962.240000</td>\n",
              "    </tr>\n",
              "    <tr>\n",
              "      <th>1</th>\n",
              "      <td>00MH985399</td>\n",
              "      <td>16046.40</td>\n",
              "      <td>2014-03-06</td>\n",
              "      <td>13424.64</td>\n",
              "      <td>2015-04-22 01:51:35</td>\n",
              "      <td>1</td>\n",
              "      <td>0</td>\n",
              "      <td>1</td>\n",
              "      <td>0</td>\n",
              "      <td>0</td>\n",
              "      <td>0</td>\n",
              "      <td>0</td>\n",
              "      <td>0</td>\n",
              "      <td>0</td>\n",
              "      <td>0</td>\n",
              "      <td>0</td>\n",
              "      <td>0</td>\n",
              "      <td>1</td>\n",
              "      <td>412.0</td>\n",
              "      <td>110.0</td>\n",
              "      <td>3.0</td>\n",
              "      <td>0.0</td>\n",
              "      <td>5348.800000</td>\n",
              "      <td>8075.840000</td>\n",
              "    </tr>\n",
              "    <tr>\n",
              "      <th>2</th>\n",
              "      <td>00MH985399</td>\n",
              "      <td>16046.40</td>\n",
              "      <td>2014-03-06</td>\n",
              "      <td>235.20</td>\n",
              "      <td>2015-06-16 12:29:25</td>\n",
              "      <td>1</td>\n",
              "      <td>0</td>\n",
              "      <td>0</td>\n",
              "      <td>1</td>\n",
              "      <td>0</td>\n",
              "      <td>0</td>\n",
              "      <td>0</td>\n",
              "      <td>0</td>\n",
              "      <td>0</td>\n",
              "      <td>0</td>\n",
              "      <td>0</td>\n",
              "      <td>0</td>\n",
              "      <td>1</td>\n",
              "      <td>467.0</td>\n",
              "      <td>55.0</td>\n",
              "      <td>3.0</td>\n",
              "      <td>0.0</td>\n",
              "      <td>5348.800000</td>\n",
              "      <td>-5113.600000</td>\n",
              "    </tr>\n",
              "    <tr>\n",
              "      <th>3</th>\n",
              "      <td>00CU982321</td>\n",
              "      <td>379072.47</td>\n",
              "      <td>2014-11-24</td>\n",
              "      <td>221932.08</td>\n",
              "      <td>2015-07-01 10:13:31</td>\n",
              "      <td>1</td>\n",
              "      <td>0</td>\n",
              "      <td>1</td>\n",
              "      <td>0</td>\n",
              "      <td>0</td>\n",
              "      <td>0</td>\n",
              "      <td>0</td>\n",
              "      <td>0</td>\n",
              "      <td>1</td>\n",
              "      <td>0</td>\n",
              "      <td>0</td>\n",
              "      <td>0</td>\n",
              "      <td>0</td>\n",
              "      <td>219.0</td>\n",
              "      <td>5.0</td>\n",
              "      <td>13.0</td>\n",
              "      <td>0.0</td>\n",
              "      <td>29321.845385</td>\n",
              "      <td>192610.234615</td>\n",
              "    </tr>\n",
              "    <tr>\n",
              "      <th>4</th>\n",
              "      <td>00CU982321</td>\n",
              "      <td>379072.47</td>\n",
              "      <td>2014-11-24</td>\n",
              "      <td>4943.90</td>\n",
              "      <td>2015-06-26 05:03:03</td>\n",
              "      <td>1</td>\n",
              "      <td>0</td>\n",
              "      <td>0</td>\n",
              "      <td>1</td>\n",
              "      <td>0</td>\n",
              "      <td>0</td>\n",
              "      <td>0</td>\n",
              "      <td>0</td>\n",
              "      <td>1</td>\n",
              "      <td>0</td>\n",
              "      <td>0</td>\n",
              "      <td>0</td>\n",
              "      <td>0</td>\n",
              "      <td>214.0</td>\n",
              "      <td>4.0</td>\n",
              "      <td>13.0</td>\n",
              "      <td>0.0</td>\n",
              "      <td>29321.845385</td>\n",
              "      <td>-24377.945385</td>\n",
              "    </tr>\n",
              "  </tbody>\n",
              "</table>\n",
              "</div>"
            ],
            "text/plain": [
              "  Numero_de_cuenta  ...  diff con tx promedio\n",
              "0       00MH985399  ...          -2962.240000\n",
              "1       00MH985399  ...           8075.840000\n",
              "2       00MH985399  ...          -5113.600000\n",
              "3       00CU982321  ...         192610.234615\n",
              "4       00CU982321  ...         -24377.945385\n",
              "\n",
              "[5 rows x 24 columns]"
            ]
          },
          "metadata": {
            "tags": []
          },
          "execution_count": 99
        }
      ]
    },
    {
      "cell_type": "code",
      "metadata": {
        "id": "pGM9lWoQpeC4",
        "colab_type": "code",
        "colab": {}
      },
      "source": [
        "df['diff con tx promedio'] = df['Monto_transacción'] - df['Promedio_de_Tx_por_usuario']"
      ],
      "execution_count": 0,
      "outputs": []
    },
    {
      "cell_type": "code",
      "metadata": {
        "id": "LhUQQjUxpeC9",
        "colab_type": "code",
        "colab": {
          "base_uri": "https://localhost:8080/",
          "height": 344
        },
        "outputId": "c57d9aa2-a5c6-4964-f1bd-cbecd54e04fe"
      },
      "source": [
        "df.head(5)"
      ],
      "execution_count": 101,
      "outputs": [
        {
          "output_type": "execute_result",
          "data": {
            "text/html": [
              "<div>\n",
              "<style scoped>\n",
              "    .dataframe tbody tr th:only-of-type {\n",
              "        vertical-align: middle;\n",
              "    }\n",
              "\n",
              "    .dataframe tbody tr th {\n",
              "        vertical-align: top;\n",
              "    }\n",
              "\n",
              "    .dataframe thead th {\n",
              "        text-align: right;\n",
              "    }\n",
              "</style>\n",
              "<table border=\"1\" class=\"dataframe\">\n",
              "  <thead>\n",
              "    <tr style=\"text-align: right;\">\n",
              "      <th></th>\n",
              "      <th>Numero_de_cuenta</th>\n",
              "      <th>Monto_de_apertura</th>\n",
              "      <th>Fecha_Apertura</th>\n",
              "      <th>Monto_transacción</th>\n",
              "      <th>Fecha Transaccion</th>\n",
              "      <th>Tipo_de_Instrumento_Cuenta corriente</th>\n",
              "      <th>Tipo_de_Instrumento_Cuenta de ahorro</th>\n",
              "      <th>Tipo_de_Transacción_DCHQ</th>\n",
              "      <th>Tipo_de_Transacción_DEFE</th>\n",
              "      <th>Tipo_de_Transacción_RECJ</th>\n",
              "      <th>Tipo_de_Transacción_REVN</th>\n",
              "      <th>Sucursal_nombre_BENITO JUÁREZ</th>\n",
              "      <th>Sucursal_nombre_COYOACÁN</th>\n",
              "      <th>Sucursal_nombre_CUAUHTEMOC</th>\n",
              "      <th>Sucursal_nombre_FORÁNEAS</th>\n",
              "      <th>Sucursal_nombre_IZTACALCO</th>\n",
              "      <th>Sucursal_nombre_IZTAPALAPA</th>\n",
              "      <th>Sucursal_nombre_MIGUEL HIDALGO</th>\n",
              "      <th>dias_desde_apertura</th>\n",
              "      <th>dias_desde_ultima_tx</th>\n",
              "      <th>cta c tot</th>\n",
              "      <th>cta_de_ahorro</th>\n",
              "      <th>Promedio_de_Tx_por_usuario</th>\n",
              "      <th>diff con tx promedio</th>\n",
              "    </tr>\n",
              "  </thead>\n",
              "  <tbody>\n",
              "    <tr>\n",
              "      <th>0</th>\n",
              "      <td>00MH985399</td>\n",
              "      <td>16046.40</td>\n",
              "      <td>2014-03-06</td>\n",
              "      <td>2386.56</td>\n",
              "      <td>2015-01-01 09:23:18</td>\n",
              "      <td>1</td>\n",
              "      <td>0</td>\n",
              "      <td>0</td>\n",
              "      <td>1</td>\n",
              "      <td>0</td>\n",
              "      <td>0</td>\n",
              "      <td>0</td>\n",
              "      <td>0</td>\n",
              "      <td>0</td>\n",
              "      <td>0</td>\n",
              "      <td>0</td>\n",
              "      <td>0</td>\n",
              "      <td>1</td>\n",
              "      <td>301.0</td>\n",
              "      <td>0.0</td>\n",
              "      <td>3.0</td>\n",
              "      <td>0.0</td>\n",
              "      <td>5348.800000</td>\n",
              "      <td>-2962.240000</td>\n",
              "    </tr>\n",
              "    <tr>\n",
              "      <th>1</th>\n",
              "      <td>00MH985399</td>\n",
              "      <td>16046.40</td>\n",
              "      <td>2014-03-06</td>\n",
              "      <td>13424.64</td>\n",
              "      <td>2015-04-22 01:51:35</td>\n",
              "      <td>1</td>\n",
              "      <td>0</td>\n",
              "      <td>1</td>\n",
              "      <td>0</td>\n",
              "      <td>0</td>\n",
              "      <td>0</td>\n",
              "      <td>0</td>\n",
              "      <td>0</td>\n",
              "      <td>0</td>\n",
              "      <td>0</td>\n",
              "      <td>0</td>\n",
              "      <td>0</td>\n",
              "      <td>1</td>\n",
              "      <td>412.0</td>\n",
              "      <td>110.0</td>\n",
              "      <td>3.0</td>\n",
              "      <td>0.0</td>\n",
              "      <td>5348.800000</td>\n",
              "      <td>8075.840000</td>\n",
              "    </tr>\n",
              "    <tr>\n",
              "      <th>2</th>\n",
              "      <td>00MH985399</td>\n",
              "      <td>16046.40</td>\n",
              "      <td>2014-03-06</td>\n",
              "      <td>235.20</td>\n",
              "      <td>2015-06-16 12:29:25</td>\n",
              "      <td>1</td>\n",
              "      <td>0</td>\n",
              "      <td>0</td>\n",
              "      <td>1</td>\n",
              "      <td>0</td>\n",
              "      <td>0</td>\n",
              "      <td>0</td>\n",
              "      <td>0</td>\n",
              "      <td>0</td>\n",
              "      <td>0</td>\n",
              "      <td>0</td>\n",
              "      <td>0</td>\n",
              "      <td>1</td>\n",
              "      <td>467.0</td>\n",
              "      <td>55.0</td>\n",
              "      <td>3.0</td>\n",
              "      <td>0.0</td>\n",
              "      <td>5348.800000</td>\n",
              "      <td>-5113.600000</td>\n",
              "    </tr>\n",
              "    <tr>\n",
              "      <th>3</th>\n",
              "      <td>00CU982321</td>\n",
              "      <td>379072.47</td>\n",
              "      <td>2014-11-24</td>\n",
              "      <td>221932.08</td>\n",
              "      <td>2015-07-01 10:13:31</td>\n",
              "      <td>1</td>\n",
              "      <td>0</td>\n",
              "      <td>1</td>\n",
              "      <td>0</td>\n",
              "      <td>0</td>\n",
              "      <td>0</td>\n",
              "      <td>0</td>\n",
              "      <td>0</td>\n",
              "      <td>1</td>\n",
              "      <td>0</td>\n",
              "      <td>0</td>\n",
              "      <td>0</td>\n",
              "      <td>0</td>\n",
              "      <td>219.0</td>\n",
              "      <td>5.0</td>\n",
              "      <td>13.0</td>\n",
              "      <td>0.0</td>\n",
              "      <td>29321.845385</td>\n",
              "      <td>192610.234615</td>\n",
              "    </tr>\n",
              "    <tr>\n",
              "      <th>4</th>\n",
              "      <td>00CU982321</td>\n",
              "      <td>379072.47</td>\n",
              "      <td>2014-11-24</td>\n",
              "      <td>4943.90</td>\n",
              "      <td>2015-06-26 05:03:03</td>\n",
              "      <td>1</td>\n",
              "      <td>0</td>\n",
              "      <td>0</td>\n",
              "      <td>1</td>\n",
              "      <td>0</td>\n",
              "      <td>0</td>\n",
              "      <td>0</td>\n",
              "      <td>0</td>\n",
              "      <td>1</td>\n",
              "      <td>0</td>\n",
              "      <td>0</td>\n",
              "      <td>0</td>\n",
              "      <td>0</td>\n",
              "      <td>214.0</td>\n",
              "      <td>4.0</td>\n",
              "      <td>13.0</td>\n",
              "      <td>0.0</td>\n",
              "      <td>29321.845385</td>\n",
              "      <td>-24377.945385</td>\n",
              "    </tr>\n",
              "  </tbody>\n",
              "</table>\n",
              "</div>"
            ],
            "text/plain": [
              "  Numero_de_cuenta  ...  diff con tx promedio\n",
              "0       00MH985399  ...          -2962.240000\n",
              "1       00MH985399  ...           8075.840000\n",
              "2       00MH985399  ...          -5113.600000\n",
              "3       00CU982321  ...         192610.234615\n",
              "4       00CU982321  ...         -24377.945385\n",
              "\n",
              "[5 rows x 24 columns]"
            ]
          },
          "metadata": {
            "tags": []
          },
          "execution_count": 101
        }
      ]
    },
    {
      "cell_type": "code",
      "metadata": {
        "id": "o2MLY6tZpeDB",
        "colab_type": "code",
        "colab": {}
      },
      "source": [
        "df_nm = df"
      ],
      "execution_count": 0,
      "outputs": []
    },
    {
      "cell_type": "markdown",
      "metadata": {
        "id": "WUCb3q-65w16",
        "colab_type": "text"
      },
      "source": [
        "# Normalizacion de los datos\n",
        "\n",
        "Primero eliminamos las columnas de tipo 'objeto' \n",
        "y aplicamos un algoritmo de normalización\n",
        "llamado MinMax\n",
        "\n",
        "Para cada valor en cada atrubuto MinMaxScaler resta el valor \n",
        "minimo del atritbuto y luego lo divide por el rango.\n",
        "El rango es la diferencia entre el maximo original y el minimo orignal\n",
        "\n",
        "Usamos MinMaxScaler por que preserva la forma original de la\n",
        "distribución y por que no cambia significativamente la \n",
        "información contenida originalmente en nuestros datos\n",
        "\n",
        "Otra razón es que MinMaxScaler no reduce la importancia de los outliers y en nuestro caso no queremos perder\n",
        "esa información por que es justo lo que nos interesa\n",
        "\n",
        "El rango por defecto que regresa MinMaxScaler es de 0 a 1\n"
      ]
    },
    {
      "cell_type": "code",
      "metadata": {
        "id": "3t7ccILNpeDG",
        "colab_type": "code",
        "colab": {
          "base_uri": "https://localhost:8080/",
          "height": 329
        },
        "outputId": "164cfdad-937d-40cc-ac5f-fbe10af7bb0f"
      },
      "source": [
        "i = ['Numero_de_cuenta','Fecha Transaccion', 'Fecha_Apertura']\n",
        "df_nm = df_nm.drop(columns=i)"
      ],
      "execution_count": 104,
      "outputs": [
        {
          "output_type": "error",
          "ename": "KeyError",
          "evalue": "ignored",
          "traceback": [
            "\u001b[0;31m---------------------------------------------------------------------------\u001b[0m",
            "\u001b[0;31mKeyError\u001b[0m                                  Traceback (most recent call last)",
            "\u001b[0;32m<ipython-input-104-7cfde056de2d>\u001b[0m in \u001b[0;36m<module>\u001b[0;34m()\u001b[0m\n\u001b[1;32m      1\u001b[0m \u001b[0mi\u001b[0m \u001b[0;34m=\u001b[0m \u001b[0;34m[\u001b[0m\u001b[0;34m'Numero_de_cuenta'\u001b[0m\u001b[0;34m,\u001b[0m\u001b[0;34m'Fecha Transaccion'\u001b[0m\u001b[0;34m,\u001b[0m \u001b[0;34m'Fecha_Apertura'\u001b[0m\u001b[0;34m]\u001b[0m\u001b[0;34m\u001b[0m\u001b[0;34m\u001b[0m\u001b[0m\n\u001b[0;32m----> 2\u001b[0;31m \u001b[0mdf_nm\u001b[0m \u001b[0;34m=\u001b[0m \u001b[0mdf_nm\u001b[0m\u001b[0;34m.\u001b[0m\u001b[0mdrop\u001b[0m\u001b[0;34m(\u001b[0m\u001b[0mcolumns\u001b[0m\u001b[0;34m=\u001b[0m\u001b[0mi\u001b[0m\u001b[0;34m)\u001b[0m\u001b[0;34m\u001b[0m\u001b[0;34m\u001b[0m\u001b[0m\n\u001b[0m",
            "\u001b[0;32m/usr/local/lib/python3.6/dist-packages/pandas/core/frame.py\u001b[0m in \u001b[0;36mdrop\u001b[0;34m(self, labels, axis, index, columns, level, inplace, errors)\u001b[0m\n\u001b[1;32m   3938\u001b[0m                                            \u001b[0mindex\u001b[0m\u001b[0;34m=\u001b[0m\u001b[0mindex\u001b[0m\u001b[0;34m,\u001b[0m \u001b[0mcolumns\u001b[0m\u001b[0;34m=\u001b[0m\u001b[0mcolumns\u001b[0m\u001b[0;34m,\u001b[0m\u001b[0;34m\u001b[0m\u001b[0;34m\u001b[0m\u001b[0m\n\u001b[1;32m   3939\u001b[0m                                            \u001b[0mlevel\u001b[0m\u001b[0;34m=\u001b[0m\u001b[0mlevel\u001b[0m\u001b[0;34m,\u001b[0m \u001b[0minplace\u001b[0m\u001b[0;34m=\u001b[0m\u001b[0minplace\u001b[0m\u001b[0;34m,\u001b[0m\u001b[0;34m\u001b[0m\u001b[0;34m\u001b[0m\u001b[0m\n\u001b[0;32m-> 3940\u001b[0;31m                                            errors=errors)\n\u001b[0m\u001b[1;32m   3941\u001b[0m \u001b[0;34m\u001b[0m\u001b[0m\n\u001b[1;32m   3942\u001b[0m     @rewrite_axis_style_signature('mapper', [('copy', True),\n",
            "\u001b[0;32m/usr/local/lib/python3.6/dist-packages/pandas/core/generic.py\u001b[0m in \u001b[0;36mdrop\u001b[0;34m(self, labels, axis, index, columns, level, inplace, errors)\u001b[0m\n\u001b[1;32m   3778\u001b[0m         \u001b[0;32mfor\u001b[0m \u001b[0maxis\u001b[0m\u001b[0;34m,\u001b[0m \u001b[0mlabels\u001b[0m \u001b[0;32min\u001b[0m \u001b[0maxes\u001b[0m\u001b[0;34m.\u001b[0m\u001b[0mitems\u001b[0m\u001b[0;34m(\u001b[0m\u001b[0;34m)\u001b[0m\u001b[0;34m:\u001b[0m\u001b[0;34m\u001b[0m\u001b[0;34m\u001b[0m\u001b[0m\n\u001b[1;32m   3779\u001b[0m             \u001b[0;32mif\u001b[0m \u001b[0mlabels\u001b[0m \u001b[0;32mis\u001b[0m \u001b[0;32mnot\u001b[0m \u001b[0;32mNone\u001b[0m\u001b[0;34m:\u001b[0m\u001b[0;34m\u001b[0m\u001b[0;34m\u001b[0m\u001b[0m\n\u001b[0;32m-> 3780\u001b[0;31m                 \u001b[0mobj\u001b[0m \u001b[0;34m=\u001b[0m \u001b[0mobj\u001b[0m\u001b[0;34m.\u001b[0m\u001b[0m_drop_axis\u001b[0m\u001b[0;34m(\u001b[0m\u001b[0mlabels\u001b[0m\u001b[0;34m,\u001b[0m \u001b[0maxis\u001b[0m\u001b[0;34m,\u001b[0m \u001b[0mlevel\u001b[0m\u001b[0;34m=\u001b[0m\u001b[0mlevel\u001b[0m\u001b[0;34m,\u001b[0m \u001b[0merrors\u001b[0m\u001b[0;34m=\u001b[0m\u001b[0merrors\u001b[0m\u001b[0;34m)\u001b[0m\u001b[0;34m\u001b[0m\u001b[0;34m\u001b[0m\u001b[0m\n\u001b[0m\u001b[1;32m   3781\u001b[0m \u001b[0;34m\u001b[0m\u001b[0m\n\u001b[1;32m   3782\u001b[0m         \u001b[0;32mif\u001b[0m \u001b[0minplace\u001b[0m\u001b[0;34m:\u001b[0m\u001b[0;34m\u001b[0m\u001b[0;34m\u001b[0m\u001b[0m\n",
            "\u001b[0;32m/usr/local/lib/python3.6/dist-packages/pandas/core/generic.py\u001b[0m in \u001b[0;36m_drop_axis\u001b[0;34m(self, labels, axis, level, errors)\u001b[0m\n\u001b[1;32m   3810\u001b[0m                 \u001b[0mnew_axis\u001b[0m \u001b[0;34m=\u001b[0m \u001b[0maxis\u001b[0m\u001b[0;34m.\u001b[0m\u001b[0mdrop\u001b[0m\u001b[0;34m(\u001b[0m\u001b[0mlabels\u001b[0m\u001b[0;34m,\u001b[0m \u001b[0mlevel\u001b[0m\u001b[0;34m=\u001b[0m\u001b[0mlevel\u001b[0m\u001b[0;34m,\u001b[0m \u001b[0merrors\u001b[0m\u001b[0;34m=\u001b[0m\u001b[0merrors\u001b[0m\u001b[0;34m)\u001b[0m\u001b[0;34m\u001b[0m\u001b[0;34m\u001b[0m\u001b[0m\n\u001b[1;32m   3811\u001b[0m             \u001b[0;32melse\u001b[0m\u001b[0;34m:\u001b[0m\u001b[0;34m\u001b[0m\u001b[0;34m\u001b[0m\u001b[0m\n\u001b[0;32m-> 3812\u001b[0;31m                 \u001b[0mnew_axis\u001b[0m \u001b[0;34m=\u001b[0m \u001b[0maxis\u001b[0m\u001b[0;34m.\u001b[0m\u001b[0mdrop\u001b[0m\u001b[0;34m(\u001b[0m\u001b[0mlabels\u001b[0m\u001b[0;34m,\u001b[0m \u001b[0merrors\u001b[0m\u001b[0;34m=\u001b[0m\u001b[0merrors\u001b[0m\u001b[0;34m)\u001b[0m\u001b[0;34m\u001b[0m\u001b[0;34m\u001b[0m\u001b[0m\n\u001b[0m\u001b[1;32m   3813\u001b[0m             \u001b[0mresult\u001b[0m \u001b[0;34m=\u001b[0m \u001b[0mself\u001b[0m\u001b[0;34m.\u001b[0m\u001b[0mreindex\u001b[0m\u001b[0;34m(\u001b[0m\u001b[0;34m**\u001b[0m\u001b[0;34m{\u001b[0m\u001b[0maxis_name\u001b[0m\u001b[0;34m:\u001b[0m \u001b[0mnew_axis\u001b[0m\u001b[0;34m}\u001b[0m\u001b[0;34m)\u001b[0m\u001b[0;34m\u001b[0m\u001b[0;34m\u001b[0m\u001b[0m\n\u001b[1;32m   3814\u001b[0m \u001b[0;34m\u001b[0m\u001b[0m\n",
            "\u001b[0;32m/usr/local/lib/python3.6/dist-packages/pandas/core/indexes/base.py\u001b[0m in \u001b[0;36mdrop\u001b[0;34m(self, labels, errors)\u001b[0m\n\u001b[1;32m   4963\u001b[0m             \u001b[0;32mif\u001b[0m \u001b[0merrors\u001b[0m \u001b[0;34m!=\u001b[0m \u001b[0;34m'ignore'\u001b[0m\u001b[0;34m:\u001b[0m\u001b[0;34m\u001b[0m\u001b[0;34m\u001b[0m\u001b[0m\n\u001b[1;32m   4964\u001b[0m                 raise KeyError(\n\u001b[0;32m-> 4965\u001b[0;31m                     '{} not found in axis'.format(labels[mask]))\n\u001b[0m\u001b[1;32m   4966\u001b[0m             \u001b[0mindexer\u001b[0m \u001b[0;34m=\u001b[0m \u001b[0mindexer\u001b[0m\u001b[0;34m[\u001b[0m\u001b[0;34m~\u001b[0m\u001b[0mmask\u001b[0m\u001b[0;34m]\u001b[0m\u001b[0;34m\u001b[0m\u001b[0;34m\u001b[0m\u001b[0m\n\u001b[1;32m   4967\u001b[0m         \u001b[0;32mreturn\u001b[0m \u001b[0mself\u001b[0m\u001b[0;34m.\u001b[0m\u001b[0mdelete\u001b[0m\u001b[0;34m(\u001b[0m\u001b[0mindexer\u001b[0m\u001b[0;34m)\u001b[0m\u001b[0;34m\u001b[0m\u001b[0;34m\u001b[0m\u001b[0m\n",
            "\u001b[0;31mKeyError\u001b[0m: \"['Numero_de_cuenta' 'Fecha Transaccion' 'Fecha_Apertura'] not found in axis\""
          ]
        }
      ]
    },
    {
      "cell_type": "code",
      "metadata": {
        "id": "OtuhGWjfpeDN",
        "colab_type": "code",
        "colab": {}
      },
      "source": [
        "from sklearn import preprocessing\n",
        "mm_scaler = preprocessing.MinMaxScaler()\n",
        "X_train_minmax = mm_scaler.fit_transform(df_nm)\n",
        "df_MinMax = pd.DataFrame(X_train_minmax, columns=[['Monto_de_apertura',\n",
        " 'Monto_transacción',\n",
        " 'Tipo_de_Instrumento_Cuenta corriente',\n",
        " 'Tipo_de_Instrumento_Cuenta de ahorro',\n",
        " 'Tipo_de_Transacción_DCHQ',\n",
        " 'Tipo_de_Transacción_DEFE',\n",
        " 'Tipo_de_Transacción_RECJ',\n",
        " 'Tipo_de_Transacción_REVN',\n",
        " 'Sucursal_nombre_BENITO JUÁREZ',\n",
        " 'Sucursal_nombre_COYOACÁN',\n",
        " 'Sucursal_nombre_CUAUHTEMOC',\n",
        " 'Sucursal_nombre_FORÁNEAS',\n",
        " 'Sucursal_nombre_IZTACALCO',\n",
        " 'Sucursal_nombre_IZTAPALAPA',\n",
        " 'Sucursal_nombre_MIGUEL HIDALGO',\n",
        " 'dias_desde_apertura',\n",
        " 'dias_desde_ultima_tx',\n",
        " 'cta c tot',\n",
        " 'cta_de_ahorro',\n",
        " 'Promedio_de_Tx_por_usuario',\n",
        " 'diff con tx promedio']])"
      ],
      "execution_count": 0,
      "outputs": []
    },
    {
      "cell_type": "code",
      "metadata": {
        "id": "C5hdm5dRpeDV",
        "colab_type": "code",
        "colab": {
          "base_uri": "https://localhost:8080/",
          "height": 381
        },
        "outputId": "e222fa2d-1ea9-453d-f2b2-5d24ee5aab16"
      },
      "source": [
        "list(df_nm)"
      ],
      "execution_count": 106,
      "outputs": [
        {
          "output_type": "execute_result",
          "data": {
            "text/plain": [
              "['Monto_de_apertura',\n",
              " 'Monto_transacción',\n",
              " 'Tipo_de_Instrumento_Cuenta corriente',\n",
              " 'Tipo_de_Instrumento_Cuenta de ahorro',\n",
              " 'Tipo_de_Transacción_DCHQ',\n",
              " 'Tipo_de_Transacción_DEFE',\n",
              " 'Tipo_de_Transacción_RECJ',\n",
              " 'Tipo_de_Transacción_REVN',\n",
              " 'Sucursal_nombre_BENITO JUÁREZ',\n",
              " 'Sucursal_nombre_COYOACÁN',\n",
              " 'Sucursal_nombre_CUAUHTEMOC',\n",
              " 'Sucursal_nombre_FORÁNEAS',\n",
              " 'Sucursal_nombre_IZTACALCO',\n",
              " 'Sucursal_nombre_IZTAPALAPA',\n",
              " 'Sucursal_nombre_MIGUEL HIDALGO',\n",
              " 'dias_desde_apertura',\n",
              " 'dias_desde_ultima_tx',\n",
              " 'cta c tot',\n",
              " 'cta_de_ahorro',\n",
              " 'Promedio_de_Tx_por_usuario',\n",
              " 'diff con tx promedio']"
            ]
          },
          "metadata": {
            "tags": []
          },
          "execution_count": 106
        }
      ]
    },
    {
      "cell_type": "code",
      "metadata": {
        "id": "hXpkRPwQpeDd",
        "colab_type": "code",
        "colab": {
          "base_uri": "https://localhost:8080/",
          "height": 242
        },
        "outputId": "df01f1d7-ae28-4e28-eb3e-409c3054e100"
      },
      "source": [
        "X_train_minmax"
      ],
      "execution_count": 107,
      "outputs": [
        {
          "output_type": "execute_result",
          "data": {
            "text/plain": [
              "array([[2.43914260e-01, 8.16090040e-07, 1.00000000e+00, ...,\n",
              "        0.00000000e+00, 2.55870733e-05, 7.14814991e-02],\n",
              "       [2.43914260e-01, 4.59058854e-06, 1.00000000e+00, ...,\n",
              "        0.00000000e+00, 2.55870733e-05, 7.14852736e-02],\n",
              "       [2.43914260e-01, 8.04272163e-08, 1.00000000e+00, ...,\n",
              "        0.00000000e+00, 2.55870733e-05, 7.14807634e-02],\n",
              "       ...,\n",
              "       [2.43910599e-01, 6.41502797e-07, 0.00000000e+00, ...,\n",
              "        4.75059382e-04, 8.97422777e-06, 7.14825121e-02],\n",
              "       [2.43910334e-01, 2.90351826e-07, 0.00000000e+00, ...,\n",
              "        4.75059382e-04, 4.06184264e-06, 7.14825121e-02],\n",
              "       [2.43910323e-01, 2.76913094e-07, 0.00000000e+00, ...,\n",
              "        4.75059382e-04, 3.87384309e-06, 7.14825121e-02]])"
            ]
          },
          "metadata": {
            "tags": []
          },
          "execution_count": 107
        }
      ]
    },
    {
      "cell_type": "markdown",
      "metadata": {
        "id": "PoqT2Yx769xb",
        "colab_type": "text"
      },
      "source": [
        "# DataFrame MinMaxScale\n",
        "\n",
        "Obtenemos nuestro data frame ya normalizado \n",
        "por lo que si contaramos con informacion\n",
        "sobre transacciones fraudulentas\n",
        "ya podriamos utilizar nuestros datos para generar un modelo\n",
        "\n"
      ]
    },
    {
      "cell_type": "code",
      "metadata": {
        "id": "4fKUE9nqpeDi",
        "colab_type": "code",
        "colab": {
          "base_uri": "https://localhost:8080/",
          "height": 257
        },
        "outputId": "d18eb234-ca0e-45b8-aa0f-57098221e3cc"
      },
      "source": [
        "df_MinMax.head(5)"
      ],
      "execution_count": 109,
      "outputs": [
        {
          "output_type": "execute_result",
          "data": {
            "text/html": [
              "<div>\n",
              "<style scoped>\n",
              "    .dataframe tbody tr th:only-of-type {\n",
              "        vertical-align: middle;\n",
              "    }\n",
              "\n",
              "    .dataframe tbody tr th {\n",
              "        vertical-align: top;\n",
              "    }\n",
              "\n",
              "    .dataframe thead tr th {\n",
              "        text-align: left;\n",
              "    }\n",
              "</style>\n",
              "<table border=\"1\" class=\"dataframe\">\n",
              "  <thead>\n",
              "    <tr>\n",
              "      <th></th>\n",
              "      <th>Monto_de_apertura</th>\n",
              "      <th>Monto_transacción</th>\n",
              "      <th>Tipo_de_Instrumento_Cuenta corriente</th>\n",
              "      <th>Tipo_de_Instrumento_Cuenta de ahorro</th>\n",
              "      <th>Tipo_de_Transacción_DCHQ</th>\n",
              "      <th>Tipo_de_Transacción_DEFE</th>\n",
              "      <th>Tipo_de_Transacción_RECJ</th>\n",
              "      <th>Tipo_de_Transacción_REVN</th>\n",
              "      <th>Sucursal_nombre_BENITO JUÁREZ</th>\n",
              "      <th>Sucursal_nombre_COYOACÁN</th>\n",
              "      <th>Sucursal_nombre_CUAUHTEMOC</th>\n",
              "      <th>Sucursal_nombre_FORÁNEAS</th>\n",
              "      <th>Sucursal_nombre_IZTACALCO</th>\n",
              "      <th>Sucursal_nombre_IZTAPALAPA</th>\n",
              "      <th>Sucursal_nombre_MIGUEL HIDALGO</th>\n",
              "      <th>dias_desde_apertura</th>\n",
              "      <th>dias_desde_ultima_tx</th>\n",
              "      <th>cta c tot</th>\n",
              "      <th>cta_de_ahorro</th>\n",
              "      <th>Promedio_de_Tx_por_usuario</th>\n",
              "      <th>diff con tx promedio</th>\n",
              "    </tr>\n",
              "  </thead>\n",
              "  <tbody>\n",
              "    <tr>\n",
              "      <th>0</th>\n",
              "      <td>0.243914</td>\n",
              "      <td>8.160900e-07</td>\n",
              "      <td>1.0</td>\n",
              "      <td>0.0</td>\n",
              "      <td>0.0</td>\n",
              "      <td>1.0</td>\n",
              "      <td>0.0</td>\n",
              "      <td>0.0</td>\n",
              "      <td>0.0</td>\n",
              "      <td>0.0</td>\n",
              "      <td>0.0</td>\n",
              "      <td>0.0</td>\n",
              "      <td>0.0</td>\n",
              "      <td>0.0</td>\n",
              "      <td>1.0</td>\n",
              "      <td>0.982677</td>\n",
              "      <td>0.000000</td>\n",
              "      <td>0.003827</td>\n",
              "      <td>0.0</td>\n",
              "      <td>0.000026</td>\n",
              "      <td>0.071481</td>\n",
              "    </tr>\n",
              "    <tr>\n",
              "      <th>1</th>\n",
              "      <td>0.243914</td>\n",
              "      <td>4.590589e-06</td>\n",
              "      <td>1.0</td>\n",
              "      <td>0.0</td>\n",
              "      <td>1.0</td>\n",
              "      <td>0.0</td>\n",
              "      <td>0.0</td>\n",
              "      <td>0.0</td>\n",
              "      <td>0.0</td>\n",
              "      <td>0.0</td>\n",
              "      <td>0.0</td>\n",
              "      <td>0.0</td>\n",
              "      <td>0.0</td>\n",
              "      <td>0.0</td>\n",
              "      <td>1.0</td>\n",
              "      <td>0.985262</td>\n",
              "      <td>0.002619</td>\n",
              "      <td>0.003827</td>\n",
              "      <td>0.0</td>\n",
              "      <td>0.000026</td>\n",
              "      <td>0.071485</td>\n",
              "    </tr>\n",
              "    <tr>\n",
              "      <th>2</th>\n",
              "      <td>0.243914</td>\n",
              "      <td>8.042722e-08</td>\n",
              "      <td>1.0</td>\n",
              "      <td>0.0</td>\n",
              "      <td>0.0</td>\n",
              "      <td>1.0</td>\n",
              "      <td>0.0</td>\n",
              "      <td>0.0</td>\n",
              "      <td>0.0</td>\n",
              "      <td>0.0</td>\n",
              "      <td>0.0</td>\n",
              "      <td>0.0</td>\n",
              "      <td>0.0</td>\n",
              "      <td>0.0</td>\n",
              "      <td>1.0</td>\n",
              "      <td>0.986542</td>\n",
              "      <td>0.001309</td>\n",
              "      <td>0.003827</td>\n",
              "      <td>0.0</td>\n",
              "      <td>0.000026</td>\n",
              "      <td>0.071481</td>\n",
              "    </tr>\n",
              "    <tr>\n",
              "      <th>3</th>\n",
              "      <td>0.244008</td>\n",
              "      <td>7.589022e-05</td>\n",
              "      <td>1.0</td>\n",
              "      <td>0.0</td>\n",
              "      <td>1.0</td>\n",
              "      <td>0.0</td>\n",
              "      <td>0.0</td>\n",
              "      <td>0.0</td>\n",
              "      <td>0.0</td>\n",
              "      <td>0.0</td>\n",
              "      <td>1.0</td>\n",
              "      <td>0.0</td>\n",
              "      <td>0.0</td>\n",
              "      <td>0.0</td>\n",
              "      <td>0.0</td>\n",
              "      <td>0.980768</td>\n",
              "      <td>0.000119</td>\n",
              "      <td>0.016582</td>\n",
              "      <td>0.0</td>\n",
              "      <td>0.000140</td>\n",
              "      <td>0.071548</td>\n",
              "    </tr>\n",
              "    <tr>\n",
              "      <th>4</th>\n",
              "      <td>0.244008</td>\n",
              "      <td>1.690579e-06</td>\n",
              "      <td>1.0</td>\n",
              "      <td>0.0</td>\n",
              "      <td>0.0</td>\n",
              "      <td>1.0</td>\n",
              "      <td>0.0</td>\n",
              "      <td>0.0</td>\n",
              "      <td>0.0</td>\n",
              "      <td>0.0</td>\n",
              "      <td>1.0</td>\n",
              "      <td>0.0</td>\n",
              "      <td>0.0</td>\n",
              "      <td>0.0</td>\n",
              "      <td>0.0</td>\n",
              "      <td>0.980651</td>\n",
              "      <td>0.000095</td>\n",
              "      <td>0.016582</td>\n",
              "      <td>0.0</td>\n",
              "      <td>0.000140</td>\n",
              "      <td>0.071474</td>\n",
              "    </tr>\n",
              "  </tbody>\n",
              "</table>\n",
              "</div>"
            ],
            "text/plain": [
              "  Monto_de_apertura  ... diff con tx promedio\n",
              "0          0.243914  ...             0.071481\n",
              "1          0.243914  ...             0.071485\n",
              "2          0.243914  ...             0.071481\n",
              "3          0.244008  ...             0.071548\n",
              "4          0.244008  ...             0.071474\n",
              "\n",
              "[5 rows x 21 columns]"
            ]
          },
          "metadata": {
            "tags": []
          },
          "execution_count": 109
        }
      ]
    },
    {
      "cell_type": "markdown",
      "metadata": {
        "id": "0m5BKEcE7Tzm",
        "colab_type": "text"
      },
      "source": [
        "# Original vs Normalizado\n",
        "\n",
        "\n",
        "Podemos obserar que la distribución de nuestros\n",
        "atributos no se vio afectada de forma significativa\n",
        "por lo que aún contamos con \n",
        "representaciones fieles de nuestros datos"
      ]
    },
    {
      "cell_type": "code",
      "metadata": {
        "id": "8vQkon6RpeDm",
        "colab_type": "code",
        "colab": {
          "base_uri": "https://localhost:8080/",
          "height": 286
        },
        "outputId": "bcfaaa66-1326-4acf-b47b-2c442ce3cfaf"
      },
      "source": [
        "df_MinMax['Monto_transacción'].plot()"
      ],
      "execution_count": 112,
      "outputs": [
        {
          "output_type": "execute_result",
          "data": {
            "text/plain": [
              "<matplotlib.axes._subplots.AxesSubplot at 0x7f923a9acf28>"
            ]
          },
          "metadata": {
            "tags": []
          },
          "execution_count": 112
        },
        {
          "output_type": "display_data",
          "data": {
            "image/png": "[encoded data removed]",
            "text/plain": [
              "<Figure size 432x288 with 1 Axes>"
            ]
          },
          "metadata": {
            "tags": []
          }
        }
      ]
    },
    {
      "cell_type": "code",
      "metadata": {
        "id": "ZRzrheEopeDp",
        "colab_type": "code",
        "colab": {
          "base_uri": "https://localhost:8080/",
          "height": 293
        },
        "outputId": "ac026c41-3ae6-4147-9012-5f49e5fcccfa"
      },
      "source": [
        "df_nm['Monto_transacción'].plot()"
      ],
      "execution_count": 113,
      "outputs": [
        {
          "output_type": "execute_result",
          "data": {
            "text/plain": [
              "<matplotlib.axes._subplots.AxesSubplot at 0x7f923a997ba8>"
            ]
          },
          "metadata": {
            "tags": []
          },
          "execution_count": 113
        },
        {
          "output_type": "display_data",
          "data": {
            "image/png": "[encoded data removed]",
            "text/plain": [
              "<Figure size 432x288 with 1 Axes>"
            ]
          },
          "metadata": {
            "tags": []
          }
        }
      ]
    },
    {
      "cell_type": "markdown",
      "metadata": {
        "id": "LJV_fW047m-F",
        "colab_type": "text"
      },
      "source": [
        "# Principal Component Analysis\n",
        "\n",
        "Principal Component Analysis o PCA, es un \n",
        "metódo de reducción de dimension que es \n",
        "usado frencuentemente en datasets grandes\n",
        "para transformar un set largo de variables en uno más pequeño \n",
        "pero que aún contenga la información del DS original\n",
        "\n",
        "\n",
        "No podemos hacer más análisis con PCA\n",
        "por que no contamos con un data set de test pero \n",
        "podemos crear nuestro DataFrame que \n",
        "tenga los nuevos atributos que incluyan la información relevante."
      ]
    },
    {
      "cell_type": "code",
      "metadata": {
        "id": "eEG4Cy2OpeDt",
        "colab_type": "code",
        "colab": {}
      },
      "source": [
        "from sklearn.decomposition import PCA\n",
        "pca = PCA(n_components=2)\n",
        "principalComponents = pca.fit_transform(df_MinMax)\n",
        "principalDf = pd.DataFrame(data = principalComponents\n",
        "             , columns = ['principal component 1', 'principal component 2'])"
      ],
      "execution_count": 0,
      "outputs": []
    },
    {
      "cell_type": "code",
      "metadata": {
        "id": "MuJ-iWIGpeDw",
        "colab_type": "code",
        "colab": {
          "base_uri": "https://localhost:8080/",
          "height": 202
        },
        "outputId": "331bf02b-883c-4fb0-e7b0-80459fa6bb70"
      },
      "source": [
        "principalDf.head(5)"
      ],
      "execution_count": 115,
      "outputs": [
        {
          "output_type": "execute_result",
          "data": {
            "text/html": [
              "<div>\n",
              "<style scoped>\n",
              "    .dataframe tbody tr th:only-of-type {\n",
              "        vertical-align: middle;\n",
              "    }\n",
              "\n",
              "    .dataframe tbody tr th {\n",
              "        vertical-align: top;\n",
              "    }\n",
              "\n",
              "    .dataframe thead th {\n",
              "        text-align: right;\n",
              "    }\n",
              "</style>\n",
              "<table border=\"1\" class=\"dataframe\">\n",
              "  <thead>\n",
              "    <tr style=\"text-align: right;\">\n",
              "      <th></th>\n",
              "      <th>principal component 1</th>\n",
              "      <th>principal component 2</th>\n",
              "    </tr>\n",
              "  </thead>\n",
              "  <tbody>\n",
              "    <tr>\n",
              "      <th>0</th>\n",
              "      <td>0.791771</td>\n",
              "      <td>-0.540458</td>\n",
              "    </tr>\n",
              "    <tr>\n",
              "      <th>1</th>\n",
              "      <td>0.781645</td>\n",
              "      <td>0.850267</td>\n",
              "    </tr>\n",
              "    <tr>\n",
              "      <th>2</th>\n",
              "      <td>0.791769</td>\n",
              "      <td>-0.540458</td>\n",
              "    </tr>\n",
              "    <tr>\n",
              "      <th>3</th>\n",
              "      <td>0.986595</td>\n",
              "      <td>1.033031</td>\n",
              "    </tr>\n",
              "    <tr>\n",
              "      <th>4</th>\n",
              "      <td>0.996720</td>\n",
              "      <td>-0.357694</td>\n",
              "    </tr>\n",
              "  </tbody>\n",
              "</table>\n",
              "</div>"
            ],
            "text/plain": [
              "   principal component 1  principal component 2\n",
              "0               0.791771              -0.540458\n",
              "1               0.781645               0.850267\n",
              "2               0.791769              -0.540458\n",
              "3               0.986595               1.033031\n",
              "4               0.996720              -0.357694"
            ]
          },
          "metadata": {
            "tags": []
          },
          "execution_count": 115
        }
      ]
    },
    {
      "cell_type": "markdown",
      "metadata": {
        "id": "1aE4fe5U9G81",
        "colab_type": "text"
      },
      "source": [
        "# Creacion de datafram que incluya Num de cuenta, fechas y atributos normalizados\n"
      ]
    },
    {
      "cell_type": "code",
      "metadata": {
        "id": "uahaNBGZpeD0",
        "colab_type": "code",
        "colab": {}
      },
      "source": [
        "df_norm_id = df_cat.merge(df_MinMax, left_index=True, right_index=True )"
      ],
      "execution_count": 0,
      "outputs": []
    },
    {
      "cell_type": "code",
      "metadata": {
        "id": "h0D5QS5ypeD2",
        "colab_type": "code",
        "colab": {
          "base_uri": "https://localhost:8080/",
          "height": 344
        },
        "outputId": "47346d90-3a02-423d-9be4-23ee00631a61"
      },
      "source": [
        "df_norm_id.head(5)"
      ],
      "execution_count": 121,
      "outputs": [
        {
          "output_type": "execute_result",
          "data": {
            "text/html": [
              "<div>\n",
              "<style scoped>\n",
              "    .dataframe tbody tr th:only-of-type {\n",
              "        vertical-align: middle;\n",
              "    }\n",
              "\n",
              "    .dataframe tbody tr th {\n",
              "        vertical-align: top;\n",
              "    }\n",
              "\n",
              "    .dataframe thead th {\n",
              "        text-align: right;\n",
              "    }\n",
              "</style>\n",
              "<table border=\"1\" class=\"dataframe\">\n",
              "  <thead>\n",
              "    <tr style=\"text-align: right;\">\n",
              "      <th></th>\n",
              "      <th>Numero_de_cuenta</th>\n",
              "      <th>Fecha_Apertura</th>\n",
              "      <th>Fecha Transaccion</th>\n",
              "      <th>(Monto_de_apertura,)</th>\n",
              "      <th>(Monto_transacción,)</th>\n",
              "      <th>(Tipo_de_Instrumento_Cuenta corriente,)</th>\n",
              "      <th>(Tipo_de_Instrumento_Cuenta de ahorro,)</th>\n",
              "      <th>(Tipo_de_Transacción_DCHQ,)</th>\n",
              "      <th>(Tipo_de_Transacción_DEFE,)</th>\n",
              "      <th>(Tipo_de_Transacción_RECJ,)</th>\n",
              "      <th>(Tipo_de_Transacción_REVN,)</th>\n",
              "      <th>(Sucursal_nombre_BENITO JUÁREZ,)</th>\n",
              "      <th>(Sucursal_nombre_COYOACÁN,)</th>\n",
              "      <th>(Sucursal_nombre_CUAUHTEMOC,)</th>\n",
              "      <th>(Sucursal_nombre_FORÁNEAS,)</th>\n",
              "      <th>(Sucursal_nombre_IZTACALCO,)</th>\n",
              "      <th>(Sucursal_nombre_IZTAPALAPA,)</th>\n",
              "      <th>(Sucursal_nombre_MIGUEL HIDALGO,)</th>\n",
              "      <th>(dias_desde_apertura,)</th>\n",
              "      <th>(dias_desde_ultima_tx,)</th>\n",
              "      <th>(cta c tot,)</th>\n",
              "      <th>(cta_de_ahorro,)</th>\n",
              "      <th>(Promedio_de_Tx_por_usuario,)</th>\n",
              "      <th>(diff con tx promedio,)</th>\n",
              "    </tr>\n",
              "  </thead>\n",
              "  <tbody>\n",
              "    <tr>\n",
              "      <th>0</th>\n",
              "      <td>00MH985399</td>\n",
              "      <td>2014-03-06</td>\n",
              "      <td>2015-01-01 09:23:18</td>\n",
              "      <td>0.243914</td>\n",
              "      <td>8.160900e-07</td>\n",
              "      <td>1.0</td>\n",
              "      <td>0.0</td>\n",
              "      <td>0.0</td>\n",
              "      <td>1.0</td>\n",
              "      <td>0.0</td>\n",
              "      <td>0.0</td>\n",
              "      <td>0.0</td>\n",
              "      <td>0.0</td>\n",
              "      <td>0.0</td>\n",
              "      <td>0.0</td>\n",
              "      <td>0.0</td>\n",
              "      <td>0.0</td>\n",
              "      <td>1.0</td>\n",
              "      <td>0.982677</td>\n",
              "      <td>0.000000</td>\n",
              "      <td>0.003827</td>\n",
              "      <td>0.0</td>\n",
              "      <td>0.000026</td>\n",
              "      <td>0.071481</td>\n",
              "    </tr>\n",
              "    <tr>\n",
              "      <th>1</th>\n",
              "      <td>00MH985399</td>\n",
              "      <td>2014-03-06</td>\n",
              "      <td>2015-04-22 01:51:35</td>\n",
              "      <td>0.243914</td>\n",
              "      <td>4.590589e-06</td>\n",
              "      <td>1.0</td>\n",
              "      <td>0.0</td>\n",
              "      <td>1.0</td>\n",
              "      <td>0.0</td>\n",
              "      <td>0.0</td>\n",
              "      <td>0.0</td>\n",
              "      <td>0.0</td>\n",
              "      <td>0.0</td>\n",
              "      <td>0.0</td>\n",
              "      <td>0.0</td>\n",
              "      <td>0.0</td>\n",
              "      <td>0.0</td>\n",
              "      <td>1.0</td>\n",
              "      <td>0.985262</td>\n",
              "      <td>0.002619</td>\n",
              "      <td>0.003827</td>\n",
              "      <td>0.0</td>\n",
              "      <td>0.000026</td>\n",
              "      <td>0.071485</td>\n",
              "    </tr>\n",
              "    <tr>\n",
              "      <th>2</th>\n",
              "      <td>00MH985399</td>\n",
              "      <td>2014-03-06</td>\n",
              "      <td>2015-06-16 12:29:25</td>\n",
              "      <td>0.243914</td>\n",
              "      <td>8.042722e-08</td>\n",
              "      <td>1.0</td>\n",
              "      <td>0.0</td>\n",
              "      <td>0.0</td>\n",
              "      <td>1.0</td>\n",
              "      <td>0.0</td>\n",
              "      <td>0.0</td>\n",
              "      <td>0.0</td>\n",
              "      <td>0.0</td>\n",
              "      <td>0.0</td>\n",
              "      <td>0.0</td>\n",
              "      <td>0.0</td>\n",
              "      <td>0.0</td>\n",
              "      <td>1.0</td>\n",
              "      <td>0.986542</td>\n",
              "      <td>0.001309</td>\n",
              "      <td>0.003827</td>\n",
              "      <td>0.0</td>\n",
              "      <td>0.000026</td>\n",
              "      <td>0.071481</td>\n",
              "    </tr>\n",
              "    <tr>\n",
              "      <th>3</th>\n",
              "      <td>00CU982321</td>\n",
              "      <td>2014-11-24</td>\n",
              "      <td>2015-07-01 10:13:31</td>\n",
              "      <td>0.244008</td>\n",
              "      <td>7.589022e-05</td>\n",
              "      <td>1.0</td>\n",
              "      <td>0.0</td>\n",
              "      <td>1.0</td>\n",
              "      <td>0.0</td>\n",
              "      <td>0.0</td>\n",
              "      <td>0.0</td>\n",
              "      <td>0.0</td>\n",
              "      <td>0.0</td>\n",
              "      <td>1.0</td>\n",
              "      <td>0.0</td>\n",
              "      <td>0.0</td>\n",
              "      <td>0.0</td>\n",
              "      <td>0.0</td>\n",
              "      <td>0.980768</td>\n",
              "      <td>0.000119</td>\n",
              "      <td>0.016582</td>\n",
              "      <td>0.0</td>\n",
              "      <td>0.000140</td>\n",
              "      <td>0.071548</td>\n",
              "    </tr>\n",
              "    <tr>\n",
              "      <th>4</th>\n",
              "      <td>00CU982321</td>\n",
              "      <td>2014-11-24</td>\n",
              "      <td>2015-06-26 05:03:03</td>\n",
              "      <td>0.244008</td>\n",
              "      <td>1.690579e-06</td>\n",
              "      <td>1.0</td>\n",
              "      <td>0.0</td>\n",
              "      <td>0.0</td>\n",
              "      <td>1.0</td>\n",
              "      <td>0.0</td>\n",
              "      <td>0.0</td>\n",
              "      <td>0.0</td>\n",
              "      <td>0.0</td>\n",
              "      <td>1.0</td>\n",
              "      <td>0.0</td>\n",
              "      <td>0.0</td>\n",
              "      <td>0.0</td>\n",
              "      <td>0.0</td>\n",
              "      <td>0.980651</td>\n",
              "      <td>0.000095</td>\n",
              "      <td>0.016582</td>\n",
              "      <td>0.0</td>\n",
              "      <td>0.000140</td>\n",
              "      <td>0.071474</td>\n",
              "    </tr>\n",
              "  </tbody>\n",
              "</table>\n",
              "</div>"
            ],
            "text/plain": [
              "  Numero_de_cuenta  ... (diff con tx promedio,)\n",
              "0       00MH985399  ...                0.071481\n",
              "1       00MH985399  ...                0.071485\n",
              "2       00MH985399  ...                0.071481\n",
              "3       00CU982321  ...                0.071548\n",
              "4       00CU982321  ...                0.071474\n",
              "\n",
              "[5 rows x 24 columns]"
            ]
          },
          "metadata": {
            "tags": []
          },
          "execution_count": 121
        }
      ]
    },
    {
      "cell_type": "code",
      "metadata": {
        "id": "7adH2iHm9aUt",
        "colab_type": "code",
        "colab": {}
      },
      "source": [
        ""
      ],
      "execution_count": 0,
      "outputs": []
    }
  ]
}